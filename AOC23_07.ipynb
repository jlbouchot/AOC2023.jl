{
 "cells": [
  {
   "cell_type": "code",
   "execution_count": 8,
   "id": "d50a6703-3814-4c32-a3fa-ef2a2ea22e6e",
   "metadata": {},
   "outputs": [
    {
     "data": {
      "text/plain": [
       "split_to_chars (generic function with 1 method)"
      ]
     },
     "execution_count": 8,
     "metadata": {},
     "output_type": "execute_result"
    }
   ],
   "source": [
    "function split_to_chars(a_str)\n",
    "    chars = Vector{Char}()\n",
    "    for a in a_str\n",
    "        push!(chars, a)\n",
    "    end\n",
    "    return chars \n",
    "end\n",
    "\n"
   ]
  },
  {
   "cell_type": "code",
   "execution_count": 56,
   "id": "203d35a7-3968-4f4a-ac5b-d85e47ebdf1f",
   "metadata": {},
   "outputs": [
    {
     "data": {
      "text/plain": [
       "6-element Vector{Char}:\n",
       " 'a': ASCII/Unicode U+0061 (category Ll: Letter, lowercase)\n",
       " 'b': ASCII/Unicode U+0062 (category Ll: Letter, lowercase)\n",
       " 'c': ASCII/Unicode U+0063 (category Ll: Letter, lowercase)\n",
       " 'd': ASCII/Unicode U+0064 (category Ll: Letter, lowercase)\n",
       " 'a': ASCII/Unicode U+0061 (category Ll: Letter, lowercase)\n",
       " '5': ASCII/Unicode U+0035 (category Nd: Number, decimal digit)"
      ]
     },
     "execution_count": 56,
     "metadata": {},
     "output_type": "execute_result"
    }
   ],
   "source": [
    "split_to_chars(\"abcda5\")"
   ]
  },
  {
   "cell_type": "code",
   "execution_count": 12,
   "id": "2712fa99-4182-4b1f-bd4c-1d7b17963393",
   "metadata": {},
   "outputs": [
    {
     "name": "stderr",
     "output_type": "stream",
     "text": [
      "\u001b[32m\u001b[1m    Updating\u001b[22m\u001b[39m registry at `C:\\Users\\jbouchot\\.julia\\registries\\General.toml`\n",
      "\u001b[32m\u001b[1m   Resolving\u001b[22m\u001b[39m package versions...\n",
      "\u001b[32m\u001b[1m   Installed\u001b[22m\u001b[39m DataStructures ───── v0.18.15\n",
      "\u001b[32m\u001b[1m   Installed\u001b[22m\u001b[39m OrderedCollections ─ v1.6.3\n",
      "\u001b[32m\u001b[1m   Installed\u001b[22m\u001b[39m Compat ───────────── v4.10.1\n",
      "\u001b[32m\u001b[1m    Updating\u001b[22m\u001b[39m `C:\\Users\\jbouchot\\.julia\\environments\\v1.9\\Project.toml`\n",
      "  \u001b[90m[864edb3b] \u001b[39m\u001b[92m+ DataStructures v0.18.15\u001b[39m\n",
      "\u001b[32m\u001b[1m    Updating\u001b[22m\u001b[39m `C:\\Users\\jbouchot\\.julia\\environments\\v1.9\\Manifest.toml`\n",
      "  \u001b[90m[34da2185] \u001b[39m\u001b[92m+ Compat v4.10.1\u001b[39m\n",
      "  \u001b[90m[864edb3b] \u001b[39m\u001b[92m+ DataStructures v0.18.15\u001b[39m\n",
      "  \u001b[90m[bac558e1] \u001b[39m\u001b[92m+ OrderedCollections v1.6.3\u001b[39m\n",
      "\u001b[32m\u001b[1mPrecompiling\u001b[22m\u001b[39m project...\n",
      "\u001b[32m  ✓ \u001b[39m\u001b[90mCompat\u001b[39m\n",
      "\u001b[32m  ✓ \u001b[39m\u001b[90mOrderedCollections\u001b[39m\n",
      "\u001b[32m  ✓ \u001b[39m\u001b[90mCompat → CompatLinearAlgebraExt\u001b[39m\n",
      "\u001b[32m  ✓ \u001b[39mDataStructures\n",
      "  4 dependencies successfully precompiled in 3 seconds. 16 already precompiled.\n"
     ]
    }
   ],
   "source": [
    "# import Pkg; Pkg.add(\"DataStructures\")"
   ]
  },
  {
   "cell_type": "code",
   "execution_count": 57,
   "id": "99b809f2-0e62-4b68-8be0-dc1b96754937",
   "metadata": {},
   "outputs": [
    {
     "data": {
      "text/plain": [
       "Accumulator{Char, Int64} with 5 entries:\n",
       "  'a' => 2\n",
       "  'c' => 1\n",
       "  'd' => 1\n",
       "  'b' => 1\n",
       "  '5' => 1"
      ]
     },
     "execution_count": 57,
     "metadata": {},
     "output_type": "execute_result"
    }
   ],
   "source": [
    "using DataStructures\n",
    "counter(split_to_chars(\"abcda5\"))"
   ]
  },
  {
   "cell_type": "code",
   "execution_count": 58,
   "id": "3f75811a-4564-4858-8be5-05473e21ace2",
   "metadata": {},
   "outputs": [
    {
     "data": {
      "text/plain": [
       "5-element Vector{Tuple{Char, Int64}}:\n",
       " ('a', 2)\n",
       " ('b', 1)\n",
       " ('c', 1)\n",
       " ('d', 1)\n",
       " ('5', 1)"
      ]
     },
     "execution_count": 58,
     "metadata": {},
     "output_type": "execute_result"
    }
   ],
   "source": [
    "B = [(i, count(==(i), split_to_chars(\"abcda5\"))) for i in unique(split_to_chars(\"abcda5\"))]"
   ]
  },
  {
   "cell_type": "code",
   "execution_count": 16,
   "id": "0a6e93d0-8ea2-4432-af29-0691d27171dc",
   "metadata": {},
   "outputs": [
    {
     "name": "stdout",
     "output_type": "stream",
     "text": [
      "a comes up the most: 2 times\n"
     ]
    }
   ],
   "source": [
    "max_val = 0\n",
    "most_entry = '1'\n",
    "for v in B\n",
    "    if v[2] > max_val \n",
    "        max_val = v[2]\n",
    "        most_entry = v[1]\n",
    "    end\n",
    "end\n",
    "println(\"$most_entry comes up the most: $max_val times\")"
   ]
  },
  {
   "cell_type": "code",
   "execution_count": 19,
   "id": "901da923-bd82-4f36-8e97-d307a10249b1",
   "metadata": {},
   "outputs": [
    {
     "data": {
      "text/plain": [
       "find_hand_value (generic function with 1 method)"
      ]
     },
     "execution_count": 19,
     "metadata": {},
     "output_type": "execute_result"
    }
   ],
   "source": [
    "function find_hand_value(hand_counter)\n",
    "    out = \"high\"\n",
    "    if length(hand_counter) == 1\n",
    "        out = \"five\"\n",
    "    elseif length(hand_counter) == 2 \n",
    "        # Four of a kind or full house\n",
    "        if hand_counter[1][2] in [2,3]\n",
    "            out = \"fullhouse\"\n",
    "        else\n",
    "            out = \"four\"\n",
    "        end\n",
    "    elseif length(hand_counter) == 3\n",
    "        # Three of a kind or two pairs\n",
    "        nb_ones = count(i -> i[2] == 1, hand_counter)\n",
    "        if nb_ones == 1\n",
    "            out = \"twopairs\"\n",
    "        else\n",
    "            out = \"three\"\n",
    "        end\n",
    "    elseif length(hand_counter) == 4\n",
    "        out = \"onepair\"\n",
    "    end\n",
    "    return out\n",
    "end"
   ]
  },
  {
   "cell_type": "code",
   "execution_count": 22,
   "id": "8549aad2-8e21-4509-89e8-a0196e4fa36a",
   "metadata": {},
   "outputs": [
    {
     "data": {
      "text/plain": [
       "\"three\""
      ]
     },
     "execution_count": 22,
     "metadata": {},
     "output_type": "execute_result"
    }
   ],
   "source": [
    "blah = [('a', 1), ('b', 3), ('c', 1)] \n",
    "find_hand_value(blah)"
   ]
  },
  {
   "cell_type": "code",
   "execution_count": 86,
   "id": "8a093a88-c434-4bdc-8121-6ac26587498b",
   "metadata": {},
   "outputs": [
    {
     "name": "stderr",
     "output_type": "stream",
     "text": [
      "WARNING: redefinition of constant values. This may fail, cause incorrect answers, or produce other errors.\n"
     ]
    },
    {
     "data": {
      "text/plain": [
       "Dict{String, Int64} with 7 entries:\n",
       "  \"high\"      => 1\n",
       "  \"fullhouse\" => 5\n",
       "  \"four\"      => 6\n",
       "  \"onepair\"   => 2\n",
       "  \"twopairs\"  => 3\n",
       "  \"five\"      => 7\n",
       "  \"three\"     => 4"
      ]
     },
     "execution_count": 86,
     "metadata": {},
     "output_type": "execute_result"
    }
   ],
   "source": [
    "const values = Dict(\"high\" => 1, \"five\" => 7, \"four\" => 6, \"fullhouse\" => 5, \"three\" => 4, \"twopairs\" => 3, \"onepair\" => 2)"
   ]
  },
  {
   "cell_type": "code",
   "execution_count": 87,
   "id": "c996419a-f2f4-4c6f-a9ca-dc3a9ee09cd8",
   "metadata": {},
   "outputs": [
    {
     "data": {
      "text/plain": [
       "one_lt_two (generic function with 1 method)"
      ]
     },
     "execution_count": 87,
     "metadata": {},
     "output_type": "execute_result"
    }
   ],
   "source": [
    "function one_lt_two(hand1, hand2)\n",
    "    h1 = split_to_chars(hand1)\n",
    "    h2 = split_to_chars(hand2)\n",
    "    h1_counter = [(i, count(==(i), h1)) for i in unique(h1)]\n",
    "    h2_counter = [(i, count(==(i), h2)) for i in unique(h2)]\n",
    "    v1 = values[find_hand_value(h1_counter)]\n",
    "    v2 = values[find_hand_value(h2_counter)]\n",
    "\n",
    "    if v1 == v2\n",
    "        for rv in ['A' => 14, 'K' => 13, 'Q' => 12, 'J' => 11, 'T' => 10, '9' => 9, '8' => 8, '7' => 7, '6' => 6, '5' => 5, '4' => 4, '3' => 3, '2' => 2]\n",
    "            h1 = replace(h1, rv)\n",
    "            h2 = replace(h2, rv)\n",
    "        end\n",
    "        i = 1\n",
    "        while h1[i] == h2[i]\n",
    "            i += 1\n",
    "        end\n",
    "        return h1[i] < h2[i]\n",
    "    else\n",
    "        return v1 < v2\n",
    "    end\n",
    "    \n",
    "end"
   ]
  },
  {
   "cell_type": "code",
   "execution_count": 88,
   "id": "f1cbe133-24f1-44c9-bd9d-b4333ab340db",
   "metadata": {},
   "outputs": [
    {
     "data": {
      "text/plain": [
       "false"
      ]
     },
     "execution_count": 88,
     "metadata": {},
     "output_type": "execute_result"
    }
   ],
   "source": [
    "one_lt_two(\"QQQJA\", \"T55J5\")"
   ]
  },
  {
   "cell_type": "code",
   "execution_count": 89,
   "id": "a2c924e4-f6c3-420a-bbf5-b8f8bb4b50f7",
   "metadata": {},
   "outputs": [
    {
     "data": {
      "text/plain": [
       "5-element Vector{String}:\n",
       " \"32T3K\"\n",
       " \"KTJJT\"\n",
       " \"KK677\"\n",
       " \"T55J5\"\n",
       " \"QQQJA\""
      ]
     },
     "execution_count": 89,
     "metadata": {},
     "output_type": "execute_result"
    }
   ],
   "source": [
    "sort([\"32T3K\", \"T55J5\", \"KK677\", \"KTJJT\", \"QQQJA\"], lt = one_lt_two)"
   ]
  },
  {
   "cell_type": "code",
   "execution_count": null,
   "id": "20efa1be-69b7-486d-87d9-f38430f79ffb",
   "metadata": {},
   "outputs": [],
   "source": []
  },
  {
   "cell_type": "code",
   "execution_count": 90,
   "id": "2eb20ebf-dcb6-4abf-b650-7827d3af5916",
   "metadata": {},
   "outputs": [
    {
     "data": {
      "text/plain": [
       "2"
      ]
     },
     "execution_count": 90,
     "metadata": {},
     "output_type": "execute_result"
    }
   ],
   "source": [
    "blah = [('a', 1), ('b', 3), ('c', 1)] \n",
    "count(i -> i[2] == 1, blah)"
   ]
  },
  {
   "cell_type": "code",
   "execution_count": 91,
   "id": "01757692-dd4b-4c35-8822-ee27448e471f",
   "metadata": {},
   "outputs": [
    {
     "data": {
      "text/plain": [
       "\"abcd\""
      ]
     },
     "execution_count": 91,
     "metadata": {},
     "output_type": "execute_result"
    }
   ],
   "source": [
    "a_str = \"abcd\""
   ]
  },
  {
   "cell_type": "code",
   "execution_count": 92,
   "id": "97a15a90-eb54-4c58-bdbc-e753f6817d80",
   "metadata": {},
   "outputs": [
    {
     "ename": "LoadError",
     "evalue": "syntax: invalid empty character literal",
     "output_type": "error",
     "traceback": [
      "syntax: invalid empty character literal",
      "",
      "Stacktrace:",
      " [1] top-level scope",
      "   @ In[92]:1"
     ]
    }
   ],
   "source": [
    "split(a_str, '')"
   ]
  },
  {
   "cell_type": "code",
   "execution_count": 93,
   "id": "f37511ec-1875-480c-bf98-4a6a6f8d3c05",
   "metadata": {},
   "outputs": [
    {
     "data": {
      "text/plain": [
       "3-element Vector{Int64}:\n",
       " 13\n",
       "  9\n",
       " 10"
      ]
     },
     "execution_count": 93,
     "metadata": {},
     "output_type": "execute_result"
    }
   ],
   "source": [
    "v1 = [13, 10, 9]\n",
    "v2 = [13, 9, 10]"
   ]
  },
  {
   "cell_type": "code",
   "execution_count": 94,
   "id": "10052481-9588-411a-a01e-1c892d3b2118",
   "metadata": {},
   "outputs": [
    {
     "data": {
      "text/plain": [
       "3-element Vector{Int64}:\n",
       "  0\n",
       "  1\n",
       " -1"
      ]
     },
     "execution_count": 94,
     "metadata": {},
     "output_type": "execute_result"
    }
   ],
   "source": [
    "v1 - v2"
   ]
  },
  {
   "cell_type": "code",
   "execution_count": 95,
   "id": "38315de0-5ce9-4ee2-887a-f54f34ad8e83",
   "metadata": {},
   "outputs": [
    {
     "ename": "LoadError",
     "evalue": "MethodError: no method matching promote_valuetype()\n\n\u001b[0mClosest candidates are:\n\u001b[0m  promote_valuetype(\u001b[91m::Pair{K, V}\u001b[39m) where {K, V}\n\u001b[0m\u001b[90m   @\u001b[39m \u001b[90mBase\u001b[39m \u001b[90m\u001b[4mset.jl:697\u001b[24m\u001b[39m\n\u001b[0m  promote_valuetype(\u001b[91m::Pair{K, V}\u001b[39m, \u001b[91m::Pair...\u001b[39m) where {K, V}\n\u001b[0m\u001b[90m   @\u001b[39m \u001b[90mBase\u001b[39m \u001b[90m\u001b[4mset.jl:698\u001b[24m\u001b[39m\n",
     "output_type": "error",
     "traceback": [
      "MethodError: no method matching promote_valuetype()\n\n\u001b[0mClosest candidates are:\n\u001b[0m  promote_valuetype(\u001b[91m::Pair{K, V}\u001b[39m) where {K, V}\n\u001b[0m\u001b[90m   @\u001b[39m \u001b[90mBase\u001b[39m \u001b[90m\u001b[4mset.jl:697\u001b[24m\u001b[39m\n\u001b[0m  promote_valuetype(\u001b[91m::Pair{K, V}\u001b[39m, \u001b[91m::Pair...\u001b[39m) where {K, V}\n\u001b[0m\u001b[90m   @\u001b[39m \u001b[90mBase\u001b[39m \u001b[90m\u001b[4mset.jl:698\u001b[24m\u001b[39m\n",
      "",
      "Stacktrace:",
      " [1] replace(::Vector{Char}; count::Nothing)",
      "   @ Base .\\set.jl:687",
      " [2] replace(::Vector{Char})",
      "   @ Base .\\set.jl:686",
      " [3] top-level scope",
      "   @ In[95]:3"
     ]
    }
   ],
   "source": [
    "h1 = ['A', 'T'] \n",
    "Dict(r\"A\" => 14, r\"T\" => 10)\n",
    "replace(h1, )"
   ]
  },
  {
   "cell_type": "code",
   "execution_count": 96,
   "id": "de69d541-1578-4e53-be43-5e347eea82d8",
   "metadata": {},
   "outputs": [
    {
     "data": {
      "text/plain": [
       "6440"
      ]
     },
     "execution_count": 96,
     "metadata": {},
     "output_type": "execute_result"
    }
   ],
   "source": [
    "tot_sum = open(\"07_test.txt\") do f\n",
    "    tot = 0\n",
    "    hands = Vector{String}()\n",
    "    bids = Vector{Int}()\n",
    "    for l in eachline(f)\n",
    "        s_line = split(l, \" \")\n",
    "        push!(hands, s_line[1])\n",
    "        push!(bids, parse(Int, s_line[2]))\n",
    "        \n",
    "    end\n",
    "    p = sortperm([\"32T3K\", \"T55J5\", \"KK677\", \"KTJJT\", \"QQQJA\"], lt = one_lt_two)\n",
    "    for i in range(1, length(p))\n",
    "        tot += bids[p[i]]*i\n",
    "    end\n",
    "    (tot)\n",
    "end"
   ]
  },
  {
   "cell_type": "code",
   "execution_count": 97,
   "id": "1c91e3e7-0db1-4c75-8499-9ae89f99bdfa",
   "metadata": {},
   "outputs": [
    {
     "name": "stdout",
     "output_type": "stream",
     "text": [
      "[\"23JKT\", \"26TK5\", \"26A7J\", \"27QTJ\", \"2T45A\", \"2JK4Q\", \"2KJ86\", \"32QAT\", \"32A4K\", \"34A87\", \"36A85\", \"382Q7\", \"3975J\", \"3T49J\", \"3TJ69\", \"3J269\", \"3J974\", \"3J97T\", \"3K5A8\", \"3A84T\", \"3A982\", \"42J3T\", \"42KT5\", \"43K67\", \"43KT7\", \"43KQ6\", \"459J6\", \"45Q67\", \"45Q72\", \"45K7A\", \"4652Q\", \"47A56\", \"4T263\", \"4TJ53\", \"4J5K9\", \"4J6Q5\", \"4Q367\", \"4K95Q\", \"4A6K9\", \"4AQ63\", \"539T8\", \"539J4\", \"569K8\", \"573J2\", \"5846Q\", \"58A6J\", \"5928J\", \"597J6\", \"59AT3\", \"5TQ76\", \"5Q2K3\", \"5Q2K7\", \"5KA89\", \"5A967\", \"64J98\", \"6859Q\", \"68J42\", \"6923T\", \"6TK95\", \"6J83Q\", \"6JT7K\", \"6QA87\", \"6A9Q8\", \"725A6\", \"72K86\", \"75289\", \"759TQ\", \"75JT8\", \"78594\", \"79K48\", \"7T5Q4\", \"7TJ48\", \"7J3A6\", \"7J64K\", \"7J98A\", \"7Q39K\", \"7QT92\", \"7KQ64\", \"8234T\", \"82TKA\", \"82A53\", \"83JQ7\", \"85AJ2\", \"87965\", \"87T63\", \"87A65\", \"89367\", \"895J3\", \"8T267\", \"8T9A5\", \"8Q4A5\", \"8Q7T5\", \"8K653\", \"8K93Q\", \"8AKQT\", \"936T8\", \"94J3Q\", \"95TJQ\", \"95A32\", \"96842\", \"96J42\", \"973A4\", \"97543\", \"975JK\", \"97A5T\", \"9T548\", \"9TJK5\", \"9TAJ7\", \"9QJ32\", \"9QAJK\", \"9K8A7\", \"9KQ52\", \"9A273\", \"9A4Q7\", \"T237A\", \"T24QK\", \"T2AJ3\", \"T3J72\", \"T3KA2\", \"T3AQ7\", \"T6K8Q\", \"T853A\", \"T86J9\", \"T94A5\", \"TJA8Q\", \"TQ428\", \"TQ6A2\", \"TK236\", \"TK983\", \"TA93Q\", \"TAQ5K\", \"J26T3\", \"J3829\", \"J3T85\", \"J58T4\", \"J62QK\", \"J6K45\", \"J823Q\", \"J95T4\", \"JT4A3\", \"JQ694\", \"JK284\", \"JK5A8\", \"JA46T\", \"Q2JTK\", \"Q3859\", \"Q43T2\", \"Q4JA9\", \"Q52J9\", \"Q6A54\", \"Q7JKT\", \"Q9J6K\", \"QT4K6\", \"QJ64T\", \"QJ85A\", \"QK4J5\", \"QA764\", \"K2834\", \"K2J7A\", \"K4J8A\", \"K524Q\", \"K5924\", \"K6293\", \"K642J\", \"K74Q9\", \"K849A\", \"K8A27\", \"K8A64\", \"KT6A4\", \"KT74Q\", \"KT93Q\", \"KJ5T3\", \"KJ698\", \"KJT45\", \"KQ7A4\", \"KA5T2\", \"KA739\", \"A2JQ9\", \"A2Q74\", \"A3465\", \"A3476\", \"A352K\", \"A3T8J\", \"A4628\", \"A492Q\", \"A4TJ8\", \"A7TK8\", \"A8T32\", \"AT92Q\", \"AQT48\", \"AK749\", \"223JA\", \"224Q8\", \"24748\", \"252J3\", \"2542J\", \"25475\", \"262J3\", \"266Q8\", \"27329\", \"28ATT\", \"2942J\", \"297A9\", \"29J2T\", \"29J44\", \"2T7T3\", \"2T88Q\", \"2TJT5\", \"2JQ25\", \"2JK26\", \"2QJ33\", \"2A726\", \"2A92K\", \"32724\", \"32J77\", \"345J3\", \"3488J\", \"355J2\", \"3688K\", \"36KQQ\", \"3722A\", \"37J6J\", \"37J88\", \"383JK\", \"39QQ4\", \"3J8K8\", \"3Q354\", \"3QQTA\", \"3A2AJ\", \"3A72A\", \"42A4J\", \"4354J\", \"43Q83\", \"43K4A\", \"44265\", \"442KT\", \"44592\", \"4552T\", \"45975\", \"4784J\", \"48437\", \"4849K\", \"487T7\", \"488JK\", \"48J4A\", \"494TJ\", \"4993J\", \"499J8\", \"49J55\", \"4TA4J\", \"4J288\", \"4J694\", \"4J7TJ\", \"4Q4JK\", \"4Q94K\", \"4K5K8\", \"4KQJK\", \"4KAA9\", \"52546\", \"52583\", \"52Q7Q\", \"53AQ3\", \"54483\", \"552Q7\", \"5542K\", \"56393\", \"56J3J\", \"577TJ\", \"577JK\", \"58226\", \"58644\", \"5884Q\", \"59563\", \"59578\", \"597K7\", \"5T4A5\", \"5T663\", \"5J754\", \"5Q9Q6\", \"5QQ24\", \"5KA99\", \"5KAQA\", \"62Q9Q\", \"6373J\", \"63AK3\", \"652K6\", \"6692K\", \"66JK5\", \"67396\", \"69KAA\", \"6TA56\", \"6JK2K\", \"6KQ65\", \"6KK57\", \"6A5K6\", \"7279Q\", \"72J82\", \"7383J\", \"73J7T\", \"73Q79\", \"755K2\", \"76749\", \"76T36\", \"76JT7\", \"76JAJ\", \"77294\", \"7754Q\", \"775J9\", \"77K9J\", \"77AJ3\", \"782Q7\", \"78T7J\", \"7T533\", \"7TJ7Q\", \"7JQA7\", \"7JQAA\", \"7Q66K\", \"7K9JJ\", \"7K9A9\", \"828JQ\", \"82A5A\", \"83543\", \"8363K\", \"83A3Q\", \"84K4J\", \"87455\", \"87TK8\", \"88632\", \"8T363\", \"8J67J\", \"8QJ86\", \"8K929\", \"92JJ3\", \"937J7\", \"94323\", \"9439A\", \"94A29\", \"96844\", \"97374\", \"97QQJ\", \"98782\", \"99476\", \"995Q7\", \"99T4A\", \"9T4T2\", \"9T6T5\", \"9T9J2\", \"9TA77\", \"9J98Q\", \"9Q577\", \"9QJJ5\", \"9K5K2\", \"9AJ22\", \"9AQ77\", \"T2338\", \"T2KJJ\", \"T43J4\", \"T5223\", \"T5K6T\", \"T77A8\", \"T844J\", \"T98JT\", \"TT2A9\", \"TT326\", \"TT5K2\", \"TT7J6\", \"TQ24T\", \"TQKK9\", \"TA9JJ\", \"J2J57\", \"J393K\", \"J6A6T\", \"J744A\", \"J783J\", \"J79Q7\", \"J7TT2\", \"J83QQ\", \"J8655\", \"J8QQA\", \"J9TTQ\", \"JTT94\", \"JJ354\", \"JJ3T8\", \"JJ482\", \"JJ547\", \"JQ59Q\", \"JK2J6\", \"JK8K9\", \"JKQJT\", \"JA6A3\", \"JAJ43\", \"Q2Q37\", \"Q3673\", \"Q45J5\", \"Q4877\", \"Q4JJ2\", \"Q4AJ4\", \"Q727K\", \"Q76TT\", \"Q76QK\", \"Q7TKK\", \"Q88J3\", \"QJ633\", \"QJJ83\", \"QQ65K\", \"QQJ4A\", \"QK4JJ\", \"QK6AQ\", \"QK8QT\", \"K27Q2\", \"K2AJA\", \"K3J2K\", \"K623K\", \"K6K52\", \"K754K\", \"K7TKA\", \"K7J55\", \"K8A6A\", \"K969J\", \"KT7K9\", \"KJTJ9\", \"KQJ33\", \"KK936\", \"KKQ2A\", \"A28AQ\", \"A3783\", \"A3JK3\", \"A4AT2\", \"A5659\", \"A75A9\", \"A76A2\", \"A7KJK\", \"A822J\", \"A8T33\", \"A9373\", \"A98QA\", \"A9TJA\", \"A9J8J\", \"ATTJQ\", \"ATA9Q\", \"AJ833\", \"AJT4T\", \"AJA58\", \"AQ7JJ\", \"AK5T5\", \"AK95A\", \"AKJ77\", \"AA4T8\", \"227AA\", \"22A6A\", \"232J3\", \"24343\", \"25235\", \"25257\", \"255K2\", \"277JJ\", \"29244\", \"29889\", \"2J2AJ\", \"2J525\", \"2K2JK\", \"2K7K7\", \"2KJKJ\", \"336J6\", \"339JJ\", \"35J35\", \"37473\", \"37673\", \"3883J\", \"39493\", \"39TT3\", \"3T35T\", \"3J37J\", \"3J443\", \"3Q883\", \"3K355\", \"3K636\", \"3A3JA\", \"442JJ\", \"445A5\", \"44669\", \"44JAA\", \"44QTQ\", \"45845\", \"46QQ6\", \"4T3T4\", \"4TT49\", \"4JJ74\", \"4Q499\", \"4K33K\", \"4AA77\", \"4AA84\", \"54995\", \"5522A\", \"5588Q\", \"55KJK\", \"55AKK\", \"5A2A5\", \"5AA56\", \"63396\", \"6464Q\", \"656T5\", \"66433\", \"66TT9\", \"66JKJ\", \"677K6\", \"69629\", \"69695\", \"6TK6T\", \"6J4J4\", \"6J644\", \"727J2\", \"74J47\", \"75445\", \"75758\", \"76367\", \"7878T\", \"79292\", \"79966\", \"7TT7J\", \"7TTKK\", \"7J337\", \"7J979\", \"7QQ37\", \"7K7KQ\", \"7KK88\", \"82832\", \"828QQ\", \"82K8K\", \"83844\", \"8448K\", \"848TT\", \"85854\", \"86586\", \"87822\", \"88442\", \"88TT3\", \"88Q22\", \"88A7A\", \"89383\", \"89896\", \"8TQQT\", \"8TAT8\", \"8J448\", \"8J778\", \"8JTT8\", \"8Q668\", \"8KAKA\", \"8A787\", \"92296\", \"922J9\", \"9339K\", \"94797\", \"9494K\", \"9595K\", \"969TT\", \"96JJ6\", \"977JJ\", \"98779\", \"988JJ\", \"98KK9\", \"99355\", \"99TJT\", \"9TT9Q\", \"9KA9K\", \"9A933\", \"T3366\", \"T3J3T\", \"T4554\", \"T4Q4T\", \"T55JT\", \"T5858\", \"T633T\", \"TTA55\", \"TQ7TQ\", \"TQKQT\", \"TK3T3\", \"TAT4A\", \"TAT9A\", \"J363J\", \"J4J49\", \"J545J\", \"J74J7\", \"J79J9\", \"J7K7J\", \"J84J8\", \"J8JQ8\", \"JTJTA\", \"JJ353\", \"JQJTT\", \"JQQJA\", \"JK4K4\", \"JKTTK\", \"JKKJ3\", \"Q3Q53\", \"Q57Q7\", \"Q5JQ5\", \"Q6556\", \"Q944Q\", \"Q9QAA\", \"QT7Q7\", \"QJ3Q3\", \"QQ272\", \"QQ9K9\", \"QKQ7K\", \"QKK66\", \"QKAKQ\", \"K22TT\", \"K39K9\", \"K3J3K\", \"K49K4\", \"K77K8\", \"K8K8A\", \"K9TT9\", \"KJKQQ\", \"KQQ8K\", \"KQK22\", \"KKJJ4\", \"KKJAA\", \"A228A\", \"A23A2\", \"A2TTA\", \"A44A6\", \"A7T7T\", \"A8QQA\", \"A969A\", \"A9A93\", \"AT6A6\", \"ATT99\", \"AJA77\", \"AATT5\", \"AAJKJ\", \"AAKTT\", \"22826\", \"22TK2\", \"22A27\", \"23622\", \"25545\", \"266T6\", \"272J2\", \"27775\", \"27A77\", \"2999Q\", \"2J444\", \"2J777\", \"2QJQQ\", \"2A822\", \"33593\", \"3363J\", \"33937\", \"3393J\", \"33T23\", \"33T3K\", \"33AK3\", \"3533A\", \"377J7\", \"38373\", \"38J33\", \"39599\", \"3JQQQ\", \"3Q33J\", \"43888\", \"4447K\", \"444AQ\", \"4464J\", \"44J74\", \"44Q43\", \"44Q46\", \"45556\", \"49699\", \"4999T\", \"4K222\", \"4A244\", \"4A6AA\", \"52T22\", \"5455T\", \"55563\", \"5585T\", \"55J57\", \"56266\", \"56755\", \"57553\", \"58553\", \"58788\", \"5TTJT\", \"6333A\", \"63T33\", \"646K6\", \"66365\", \"6665K\", \"666J3\", \"66J64\", \"66JA6\", \"66K26\", \"699J9\", \"6Q5QQ\", \"6K766\", \"6KK3K\", \"6A665\", \"73334\", \"74377\", \"77497\", \"77J7T\", \"787A7\", \"788A8\", \"79377\", \"7AAA6\", \"84333\", \"85J55\", \"86966\", \"87222\", \"8828J\", \"8878J\", \"88824\", \"8887Q\", \"88K8J\", \"8TT4T\", \"8TTQT\", \"8Q6QQ\", \"8Q848\", \"8A884\", \"8AATA\", \"92499\", \"92777\", \"94888\", \"94959\", \"97969\", \"98799\", \"98969\", \"9992T\", \"999JA\", \"99K29\", \"99K98\", \"9J444\", \"9J989\", \"9K799\", \"T3444\", \"T8TTK\", \"T9939\", \"TT2QT\", \"TT53T\", \"TT5QT\", \"TTT49\", \"TTT8J\", \"TTT95\", \"TTJT2\", \"TJTT7\", \"TKTTQ\", \"TKKK2\", \"TATQT\", \"J3337\", \"J4443\", \"J4844\", \"J6668\", \"J6AAA\", \"J9K99\", \"JT666\", \"JK8KK\", \"JKK3K\", \"Q222A\", \"Q4454\", \"Q4QAQ\", \"Q5525\", \"Q7727\", \"Q7999\", \"Q8555\", \"Q8J88\", \"QT9QQ\", \"QTQ4Q\", \"QQ82Q\", \"QQ8TQ\", \"QQJQ4\", \"QQQJ5\", \"K2225\", \"K4KQK\", \"K7747\", \"K8887\", \"K93KK\", \"KJ9JJ\", \"KK2K3\", \"KK2KA\", \"KK79K\", \"KK8TK\", \"KKK85\", \"KKKJT\", \"KKKQJ\", \"KAKK8\", \"A33Q3\", \"A5AJA\", \"A9444\", \"ATJAA\", \"ATA7A\", \"AA3AQ\", \"AAT2A\", \"AAKTA\", \"AAA2J\", \"AAAJ3\", \"AAAJQ\", \"222KK\", \"22727\", \"26226\", \"28822\", \"28828\", \"2TTT2\", \"33222\", \"33322\", \"33888\", \"33A3A\", \"35335\", \"35355\", \"36366\", \"37373\", \"3T33T\", \"3J33J\", \"3Q3Q3\", \"43334\", \"44888\", \"46464\", \"4T44T\", \"4TT4T\", \"4QQQ4\", \"52252\", \"52552\", \"55544\", \"555TT\", \"55656\", \"55775\", \"55AAA\", \"57757\", \"5TTT5\", \"5J55J\", \"5QQQ5\", \"5K5K5\", \"64646\", \"65665\", \"66333\", \"66999\", \"68868\", \"6J66J\", \"73773\", \"76677\", \"76766\", \"77722\", \"777TT\", \"777AA\", \"77JJJ\", \"7Q77Q\", \"7K7K7\", \"83833\", \"84448\", \"88877\", \"88989\", \"88T8T\", \"88J8J\", \"8KK88\", \"95595\", \"95959\", \"99777\", \"99779\", \"99A9A\", \"9JJ99\", \"T99TT\", \"TT3T3\", \"TT77T\", \"TTT88\", \"TTKKT\", \"TJJTT\", \"J2JJ2\", \"J4J44\", \"J77J7\", \"JJ222\", \"Q22QQ\", \"Q4Q44\", \"Q6Q66\", \"Q6QQ6\", \"QQ7Q7\", \"QQ9Q9\", \"QQTTT\", \"QQJJQ\", \"QQQ88\", \"K333K\", \"K44KK\", \"K7KK7\", \"K99KK\", \"KK22K\", \"KK55K\", \"KKKJJ\", \"KKAAK\", \"A44A4\", \"AJAJA\", \"AQQAQ\", \"AQAAQ\", \"AA33A\", \"AA555\", \"AA66A\", \"AA888\", \"AAKAK\", \"AAA44\", \"AAA77\", \"2222A\", \"22292\", \"222J2\", \"22322\", \"22422\", \"22Q22\", \"27777\", \"28888\", \"33337\", \"33933\", \"33A33\", \"35333\", \"3T333\", \"3Q333\", \"3KKKK\", \"44447\", \"44448\", \"44494\", \"444J4\", \"444Q4\", \"44644\", \"55552\", \"555A5\", \"55655\", \"55855\", \"55J55\", \"5QQQQ\", \"5K555\", \"5KKKK\", \"62222\", \"63333\", \"66664\", \"6666J\", \"666T6\", \"66966\", \"66Q66\", \"66A66\", \"68666\", \"74777\", \"75555\", \"77877\", \"77977\", \"77T77\", \"79999\", \"88688\", \"88848\", \"8888T\", \"8888K\", \"888J8\", \"92999\", \"95999\", \"98999\", \"99993\", \"99994\", \"9999K\", \"9999A\", \"99T99\", \"9J999\", \"9AAAA\", \"T8TTT\", \"TT2TT\", \"TT7TT\", \"TTT3T\", \"TTT4T\", \"TTTT6\", \"TTTJT\", \"TATTT\", \"J3333\", \"J7777\", \"JJ8JJ\", \"Q3QQQ\", \"Q5555\", \"Q7777\", \"QTTTT\", \"QQQ4Q\", \"QQQ6Q\", \"QQQQ2\", \"QQQQ8\", \"QQQQJ\", \"KJKKK\", \"KQKKK\", \"KK4KK\", \"KK6KK\", \"KK7KK\", \"KKK8K\", \"KKKTK\", \"KKKK9\", \"KKKAK\", \"A2AAA\", \"A4444\", \"A8888\", \"A8AAA\", \"AQQQQ\", \"AA3AA\", \"AA5AA\", \"AA6AA\", \"AAQAA\", \"AAA4A\", \"AAATA\", \"AAAJA\", \"JJJJJ\"]\n"
     ]
    },
    {
     "data": {
      "text/plain": [
       "246424613"
      ]
     },
     "execution_count": 97,
     "metadata": {},
     "output_type": "execute_result"
    }
   ],
   "source": [
    "tot_sum = open(\"07_1.txt\") do f\n",
    "    tot = 0\n",
    "    hands = Vector{String}()\n",
    "    bids = Vector{Int}()\n",
    "    for l in eachline(f)\n",
    "        s_line = split(l, \" \")\n",
    "        push!(hands, s_line[1])\n",
    "        push!(bids, parse(Int, s_line[2]))\n",
    "        # println(s_line)\n",
    "    end\n",
    "    p = sortperm(hands, lt = one_lt_two)\n",
    "    for i in range(1, length(p))\n",
    "        tot += bids[p[i]]*i\n",
    "    end\n",
    "    println(hands[p])\n",
    "    # println(hands)\n",
    "    (tot)\n",
    "end"
   ]
  },
  {
   "cell_type": "code",
   "execution_count": null,
   "id": "df4a36f0-bb37-4022-82ae-14540c012f39",
   "metadata": {},
   "outputs": [],
   "source": []
  },
  {
   "cell_type": "code",
   "execution_count": null,
   "id": "84edc3cc-9a18-464e-b441-352b49e92c97",
   "metadata": {},
   "outputs": [],
   "source": []
  },
  {
   "cell_type": "code",
   "execution_count": null,
   "id": "34a34a97-94ca-49c4-a084-f611e53c0ae0",
   "metadata": {},
   "outputs": [],
   "source": []
  },
  {
   "cell_type": "code",
   "execution_count": null,
   "id": "0ba5b40b-82e4-4756-b4c9-eed811f620cd",
   "metadata": {},
   "outputs": [],
   "source": []
  },
  {
   "cell_type": "code",
   "execution_count": null,
   "id": "5675b686-3820-448d-af19-4be0c13ba8d3",
   "metadata": {},
   "outputs": [],
   "source": []
  },
  {
   "cell_type": "code",
   "execution_count": null,
   "id": "2516cfbc-3e44-4b66-b072-13ea0ed568b7",
   "metadata": {},
   "outputs": [],
   "source": []
  },
  {
   "cell_type": "code",
   "execution_count": 111,
   "id": "77d28de2-d319-4e99-a5a4-7c5ee7d116e6",
   "metadata": {},
   "outputs": [
    {
     "data": {
      "text/plain": [
       "find_hand_value2 (generic function with 1 method)"
      ]
     },
     "execution_count": 111,
     "metadata": {},
     "output_type": "execute_result"
    }
   ],
   "source": [
    "function find_hand_value2(hand_counter)\n",
    "    out = \"high\"\n",
    "\n",
    "    # Sort J's first: simply add them to them to the largest known letter (not J)\n",
    "    max_c_idx = 0\n",
    "    max_c_val = 0\n",
    "    J_idx = 0\n",
    "    J_nb = 0\n",
    "    for (idx, v) in enumerate(hand_counter)\n",
    "        if v[1] == 'J'\n",
    "            J_idx = idx\n",
    "            J_nb = v[2]\n",
    "        elseif v[2] > max_c_val\n",
    "            max_c_val = v[2]\n",
    "            max_c_idx = idx\n",
    "        end\n",
    "    end\n",
    "    if J_nb > 0 && J_nb < 5 \n",
    "        hand_counter[max_c_idx][2] += J_nb\n",
    "        deleteat!(hand_counter, J_idx)\n",
    "    end\n",
    "        \n",
    "        \n",
    "    if length(hand_counter) == 1\n",
    "        out = \"five\"\n",
    "    elseif length(hand_counter) == 2 \n",
    "        # Four of a kind or full house\n",
    "        if hand_counter[1][2] in [2,3]\n",
    "            out = \"fullhouse\"\n",
    "        else\n",
    "            out = \"four\"\n",
    "        end\n",
    "    elseif length(hand_counter) == 3\n",
    "        # Three of a kind or two pairs\n",
    "        nb_ones = count(i -> i[2] == 1, hand_counter)\n",
    "        if nb_ones == 1\n",
    "            out = \"twopairs\"\n",
    "        else\n",
    "            out = \"three\"\n",
    "        end\n",
    "    elseif length(hand_counter) == 4\n",
    "        out = \"onepair\"\n",
    "    end\n",
    "    return out\n",
    "end"
   ]
  },
  {
   "cell_type": "code",
   "execution_count": 108,
   "id": "1e590d85-07ce-4947-be0d-fb222b25345c",
   "metadata": {},
   "outputs": [
    {
     "name": "stdout",
     "output_type": "stream",
     "text": [
      "1\n"
     ]
    },
    {
     "data": {
      "text/plain": [
       "\"three\""
      ]
     },
     "execution_count": 108,
     "metadata": {},
     "output_type": "execute_result"
    }
   ],
   "source": [
    "blah = [['a', 1], ['b', 2], ['c', 1], ['J', 1]] \n",
    "find_hand_value2(blah)"
   ]
  },
  {
   "cell_type": "code",
   "execution_count": 109,
   "id": "4dab3273-de46-4697-a717-aa26cb1136f8",
   "metadata": {},
   "outputs": [
    {
     "data": {
      "text/plain": [
       "one_lt_two2 (generic function with 1 method)"
      ]
     },
     "execution_count": 109,
     "metadata": {},
     "output_type": "execute_result"
    }
   ],
   "source": [
    "function one_lt_two2(hand1, hand2)\n",
    "    h1 = split_to_chars(hand1)\n",
    "    h2 = split_to_chars(hand2)\n",
    "    h1_counter = [[i, count(==(i), h1)] for i in unique(h1)]\n",
    "    h2_counter = [[i, count(==(i), h2)] for i in unique(h2)]\n",
    "    v1 = values[find_hand_value2(h1_counter)]\n",
    "    v2 = values[find_hand_value2(h2_counter)]\n",
    "\n",
    "    if v1 == v2\n",
    "        for rv in ['A' => 14, 'K' => 13, 'Q' => 12, 'J' => 1, 'T' => 10, '9' => 9, '8' => 8, '7' => 7, '6' => 6, '5' => 5, '4' => 4, '3' => 3, '2' => 2]\n",
    "            h1 = replace(h1, rv)\n",
    "            h2 = replace(h2, rv)\n",
    "        end\n",
    "        i = 1\n",
    "        while h1[i] == h2[i]\n",
    "            i += 1\n",
    "        end\n",
    "        return h1[i] < h2[i]\n",
    "    else\n",
    "        return v1 < v2\n",
    "    end\n",
    "    \n",
    "end"
   ]
  },
  {
   "cell_type": "code",
   "execution_count": null,
   "id": "5b6e3111-de0c-49af-80c4-8d70fed96036",
   "metadata": {},
   "outputs": [],
   "source": []
  },
  {
   "cell_type": "code",
   "execution_count": 112,
   "id": "7b006d19-0217-42c9-8dab-bffe15f67b96",
   "metadata": {},
   "outputs": [
    {
     "name": "stdout",
     "output_type": "stream",
     "text": [
      "[\"26TK5\", \"2T45A\", \"32QAT\", \"32A4K\", \"34A87\", \"36A85\", \"382Q7\", \"3K5A8\", \"3A84T\", \"3A982\", \"42KT5\", \"43K67\", \"43KT7\", \"43KQ6\", \"45Q67\", \"45Q72\", \"45K7A\", \"4652Q\", \"47A56\", \"4T263\", \"4Q367\", \"4K95Q\", \"4A6K9\", \"4AQ63\", \"539T8\", \"569K8\", \"5846Q\", \"59AT3\", \"5TQ76\", \"5Q2K3\", \"5Q2K7\", \"5KA89\", \"5A967\", \"6859Q\", \"6923T\", \"6TK95\", \"6QA87\", \"6A9Q8\", \"725A6\", \"72K86\", \"75289\", \"759TQ\", \"78594\", \"79K48\", \"7T5Q4\", \"7Q39K\", \"7QT92\", \"7KQ64\", \"8234T\", \"82TKA\", \"82A53\", \"87965\", \"87T63\", \"87A65\", \"89367\", \"8T267\", \"8T9A5\", \"8Q4A5\", \"8Q7T5\", \"8K653\", \"8K93Q\", \"8AKQT\", \"936T8\", \"95A32\", \"96842\", \"973A4\", \"97543\", \"97A5T\", \"9T548\", \"9K8A7\", \"9KQ52\", \"9A273\", \"9A4Q7\", \"T237A\", \"T24QK\", \"T3KA2\", \"T3AQ7\", \"T6K8Q\", \"T853A\", \"T94A5\", \"TQ428\", \"TQ6A2\", \"TK236\", \"TK983\", \"TA93Q\", \"TAQ5K\", \"Q3859\", \"Q43T2\", \"Q6A54\", \"QT4K6\", \"QA764\", \"K2834\", \"K524Q\", \"K5924\", \"K6293\", \"K74Q9\", \"K849A\", \"K8A27\", \"K8A64\", \"KT6A4\", \"KT74Q\", \"KT93Q\", \"KQ7A4\", \"KA5T2\", \"KA739\", \"A2Q74\", \"A3465\", \"A3476\", \"A352K\", \"A4628\", \"A492Q\", \"A7TK8\", \"A8T32\", \"AT92Q\", \"AQT48\", \"AK749\", \"J26T3\", \"J3829\", \"J3T85\", \"J58T4\", \"J62QK\", \"J6K45\", \"J823Q\", \"J95T4\", \"JT4A3\", \"JQ694\", \"JK284\", \"JK5A8\", \"JA46T\", \"2JK4Q\", \"224Q8\", \"23JKT\", \"24748\", \"25475\", \"266Q8\", \"26A7J\", \"27329\", \"27QTJ\", \"28ATT\", \"297A9\", \"2T7T3\", \"2T88Q\", \"2KJ86\", \"2A726\", \"2A92K\", \"3J269\", \"3J974\", \"3J97T\", \"32724\", \"3688K\", \"36KQQ\", \"3722A\", \"3975J\", \"39QQ4\", \"3TJ69\", \"3T49J\", \"3Q354\", \"3QQTA\", \"3A72A\", \"4J5K9\", \"4J6Q5\", \"42J3T\", \"43Q83\", \"43K4A\", \"44265\", \"442KT\", \"44592\", \"4552T\", \"459J6\", \"45975\", \"48437\", \"4849K\", \"487T7\", \"4TJ53\", \"4Q94K\", \"4K5K8\", \"4KAA9\", \"52546\", \"52583\", \"52Q7Q\", \"539J4\", \"53AQ3\", \"54483\", \"552Q7\", \"5542K\", \"56393\", \"573J2\", \"58226\", \"58644\", \"5884Q\", \"58A6J\", \"5928J\", \"59563\", \"59578\", \"597J6\", \"597K7\", \"5T4A5\", \"5T663\", \"5Q9Q6\", \"5QQ24\", \"5KA99\", \"5KAQA\", \"6J83Q\", \"6JT7K\", \"62Q9Q\", \"63AK3\", \"64J98\", \"652K6\", \"6692K\", \"67396\", \"68J42\", \"69KAA\", \"6TA56\", \"6KQ65\", \"6KK57\", \"6A5K6\", \"7J3A6\", \"7J64K\", \"7J98A\", \"7279Q\", \"73Q79\", \"75JT8\", \"755K2\", \"76749\", \"76T36\", \"77294\", \"7754Q\", \"782Q7\", \"7TJ48\", \"7T533\", \"7Q66K\", \"7K9A9\", \"82A5A\", \"83JQ7\", \"83543\", \"8363K\", \"83A3Q\", \"85AJ2\", \"87455\", \"87TK8\", \"88632\", \"895J3\", \"8T363\", \"8K929\", \"94J3Q\", \"94323\", \"9439A\", \"94A29\", \"95TJQ\", \"96J42\", \"96844\", \"97374\", \"975JK\", \"98782\", \"99476\", \"995Q7\", \"99T4A\", \"9TJK5\", \"9T4T2\", \"9T6T5\", \"9TAJ7\", \"9TA77\", \"9QJ32\", \"9Q577\", \"9QAJK\", \"9K5K2\", \"9AQ77\", \"TJA8Q\", \"T2338\", \"T2AJ3\", \"T3J72\", \"T5223\", \"T5K6T\", \"T77A8\", \"T86J9\", \"TT2A9\", \"TT326\", \"TT5K2\", \"TQ24T\", \"TQKK9\", \"QJ64T\", \"QJ85A\", \"Q2JTK\", \"Q2Q37\", \"Q3673\", \"Q4JA9\", \"Q4877\", \"Q52J9\", \"Q7JKT\", \"Q727K\", \"Q76TT\", \"Q76QK\", \"Q7TKK\", \"Q9J6K\", \"QQ65K\", \"QK4J5\", \"QK6AQ\", \"QK8QT\", \"KJ5T3\", \"KJ698\", \"KJT45\", \"K2J7A\", \"K27Q2\", \"K4J8A\", \"K623K\", \"K642J\", \"K6K52\", \"K754K\", \"K7TKA\", \"K8A6A\", \"KT7K9\", \"KK936\", \"KKQ2A\", \"A2JQ9\", \"A28AQ\", \"A3783\", \"A3T8J\", \"A4TJ8\", \"A4AT2\", \"A5659\", \"A75A9\", \"A76A2\", \"A8T33\", \"A9373\", \"A98QA\", \"ATA9Q\", \"AK5T5\", \"AK95A\", \"AA4T8\", \"227AA\", \"22A6A\", \"24343\", \"25235\", \"25257\", \"255K2\", \"29244\", \"29889\", \"2K7K7\", \"37473\", \"37673\", \"39493\", \"39TT3\", \"3T35T\", \"3Q883\", \"3K355\", \"3K636\", \"445A5\", \"44669\", \"44QTQ\", \"45845\", \"46QQ6\", \"4T3T4\", \"4TT49\", \"4Q499\", \"4K33K\", \"4AA77\", \"4AA84\", \"54995\", \"5522A\", \"5588Q\", \"55AKK\", \"5A2A5\", \"5AA56\", \"63396\", \"6464Q\", \"656T5\", \"66433\", \"66TT9\", \"677K6\", \"69629\", \"69695\", \"6TK6T\", \"75445\", \"75758\", \"76367\", \"7878T\", \"79292\", \"79966\", \"7TTKK\", \"7QQ37\", \"7K7KQ\", \"7KK88\", \"82832\", \"828QQ\", \"82K8K\", \"83844\", \"8448K\", \"848TT\", \"85854\", \"86586\", \"87822\", \"88442\", \"88TT3\", \"88Q22\", \"88A7A\", \"89383\", \"89896\", \"8TQQT\", \"8TAT8\", \"8Q668\", \"8KAKA\", \"8A787\", \"92296\", \"9339K\", \"94797\", \"9494K\", \"9595K\", \"969TT\", \"98779\", \"98KK9\", \"99355\", \"9TT9Q\", \"9KA9K\", \"9A933\", \"T3366\", \"T4554\", \"T4Q4T\", \"T5858\", \"T633T\", \"TTA55\", \"TQ7TQ\", \"TQKQT\", \"TK3T3\", \"TAT4A\", \"TAT9A\", \"Q3Q53\", \"Q57Q7\", \"Q6556\", \"Q944Q\", \"Q9QAA\", \"QT7Q7\", \"QQ272\", \"QQ9K9\", \"QKQ7K\", \"QKK66\", \"QKAKQ\", \"K22TT\", \"K39K9\", \"K49K4\", \"K77K8\", \"K8K8A\", \"K9TT9\", \"KQQ8K\", \"KQK22\", \"A228A\", \"A23A2\", \"A2TTA\", \"A44A6\", \"A7T7T\", \"A8QQA\", \"A969A\", \"A9A93\", \"AT6A6\", \"ATT99\", \"AATT5\", \"AAKTT\", \"JJ354\", \"JJ3T8\", \"JJ482\", \"JJ547\", \"J2J57\", \"J393K\", \"J6A6T\", \"J744A\", \"J783J\", \"J79Q7\", \"J7TT2\", \"J83QQ\", \"J8655\", \"J8QQA\", \"J9TTQ\", \"JTT94\", \"JQ59Q\", \"JK2J6\", \"JK8K9\", \"JKQJT\", \"JAJ43\", \"JA6A3\", \"2JQ25\", \"2JK26\", \"223JA\", \"22826\", \"22TK2\", \"22A27\", \"23622\", \"252J3\", \"2542J\", \"25545\", \"262J3\", \"266T6\", \"27775\", \"27A77\", \"29J2T\", \"29J44\", \"2942J\", \"2999Q\", \"2TJT5\", \"2QJ33\", \"2A822\", \"3J8K8\", \"32J77\", \"33593\", \"33937\", \"33T23\", \"33T3K\", \"33AK3\", \"345J3\", \"3488J\", \"3533A\", \"355J2\", \"37J6J\", \"37J88\", \"383JK\", \"38373\", \"39599\", \"3A2AJ\", \"4J288\", \"4J694\", \"4J7TJ\", \"42A4J\", \"4354J\", \"43888\", \"4447K\", \"444AQ\", \"44Q43\", \"44Q46\", \"45556\", \"4784J\", \"48J4A\", \"488JK\", \"49J55\", \"494TJ\", \"49699\", \"499J8\", \"4993J\", \"4999T\", \"4TA4J\", \"4Q4JK\", \"4K222\", \"4KQJK\", \"4A244\", \"4A6AA\", \"5J754\", \"52T22\", \"5455T\", \"55563\", \"5585T\", \"56J3J\", \"56266\", \"56755\", \"57553\", \"577JK\", \"577TJ\", \"58553\", \"58788\", \"6JK2K\", \"6333A\", \"6373J\", \"63T33\", \"646K6\", \"66JK5\", \"66365\", \"6665K\", \"66K26\", \"6Q5QQ\", \"6K766\", \"6KK3K\", \"6A665\", \"7JQA7\", \"7JQAA\", \"72J82\", \"73J7T\", \"73334\", \"7383J\", \"74377\", \"76JT7\", \"76JAJ\", \"77497\", \"775J9\", \"77K9J\", \"77AJ3\", \"787A7\", \"788A8\", \"78T7J\", \"79377\", \"7TJ7Q\", \"7K9JJ\", \"7AAA6\", \"8J67J\", \"828JQ\", \"84333\", \"84K4J\", \"86966\", \"87222\", \"88824\", \"8887Q\", \"8TT4T\", \"8TTQT\", \"8QJ86\", \"8Q6QQ\", \"8Q848\", \"8A884\", \"8AATA\", \"9J98Q\", \"92JJ3\", \"92499\", \"92777\", \"937J7\", \"94888\", \"94959\", \"97969\", \"97QQJ\", \"98799\", \"98969\", \"9992T\", \"99K29\", \"99K98\", \"9T9J2\", \"9QJJ5\", \"9K799\", \"9AJ22\", \"T2KJJ\", \"T3444\", \"T43J4\", \"T844J\", \"T8TTK\", \"T98JT\", \"T9939\", \"TT2QT\", \"TT53T\", \"TT5QT\", \"TT7J6\", \"TTT49\", \"TTT95\", \"TKTTQ\", \"TKKK2\", \"TA9JJ\", \"TATQT\", \"QJJ83\", \"QJ633\", \"Q222A\", \"Q4JJ2\", \"Q4454\", \"Q45J5\", \"Q4QAQ\", \"Q4AJ4\", \"Q5525\", \"Q7727\", \"Q7999\", \"Q8555\", \"Q88J3\", \"QT9QQ\", \"QTQ4Q\", \"QQJ4A\", \"QQ82Q\", \"QQ8TQ\", \"QK4JJ\", \"KJTJ9\", \"K2225\", \"K2AJA\", \"K3J2K\", \"K4KQK\", \"K7J55\", \"K7747\", \"K8887\", \"K93KK\", \"K969J\", \"KQJ33\", \"KK2K3\", \"KK2KA\", \"KK79K\", \"KK8TK\", \"KKK85\", \"KAKK8\", \"AJ833\", \"AJT4T\", \"AJA58\", \"A3JK3\", \"A33Q3\", \"A7KJK\", \"A822J\", \"A9J8J\", \"A9444\", \"A9TJA\", \"ATTJQ\", \"ATA7A\", \"AQ7JJ\", \"AKJ77\", \"AA3AQ\", \"AAT2A\", \"AAKTA\", \"JK4K4\", \"JKTTK\", \"2J525\", \"222KK\", \"22727\", \"232J3\", \"26226\", \"28822\", \"28828\", \"2TTT2\", \"2K2JK\", \"3J443\", \"33222\", \"33322\", \"336J6\", \"33888\", \"33A3A\", \"35J35\", \"35335\", \"35355\", \"36366\", \"37373\", \"3883J\", \"3T33T\", \"3Q3Q3\", \"3A3JA\", \"43334\", \"44JAA\", \"44888\", \"46464\", \"4T44T\", \"4TT4T\", \"4QQQ4\", \"52252\", \"52552\", \"55544\", \"555TT\", \"55656\", \"55775\", \"55KJK\", \"55AAA\", \"57757\", \"5TTT5\", \"5QQQ5\", \"5K5K5\", \"6J644\", \"64646\", \"65665\", \"66333\", \"66999\", \"68868\", \"7J337\", \"7J979\", \"727J2\", \"73773\", \"74J47\", \"76677\", \"76766\", \"77722\", \"777TT\", \"777AA\", \"7TT7J\", \"7Q77Q\", \"7K7K7\", \"8J448\", \"8J778\", \"8JTT8\", \"83833\", \"84448\", \"88877\", \"88989\", \"88T8T\", \"8KK88\", \"922J9\", \"95595\", \"95959\", \"99777\", \"99779\", \"99TJT\", \"99A9A\", \"T3J3T\", \"T55JT\", \"T99TT\", \"TT3T3\", \"TT77T\", \"TTT88\", \"TTKKT\", \"QJ3Q3\", \"Q22QQ\", \"Q4Q44\", \"Q5JQ5\", \"Q6Q66\", \"Q6QQ6\", \"QQ7Q7\", \"QQ9Q9\", \"QQTTT\", \"QQQ88\", \"KJKQQ\", \"K3J3K\", \"K333K\", \"K44KK\", \"K7KK7\", \"K99KK\", \"KKJAA\", \"KK22K\", \"KK55K\", \"KKAAK\", \"AJA77\", \"A44A4\", \"AQQAQ\", \"AQAAQ\", \"AA33A\", \"AA555\", \"AA66A\", \"AA888\", \"AAKAK\", \"AAA44\", \"AAA77\", \"JJ353\", \"J3337\", \"J363J\", \"J4J49\", \"J4443\", \"J4844\", \"J545J\", \"J6668\", \"J6AAA\", \"J74J7\", \"J79J9\", \"J7K7J\", \"J8JQ8\", \"J84J8\", \"J9K99\", \"JTJTA\", \"JT666\", \"JQJTT\", \"JQQJA\", \"JK8KK\", \"JKKJ3\", \"JKK3K\", \"2J2AJ\", \"2J444\", \"2J777\", \"2222A\", \"22292\", \"22322\", \"22422\", \"22Q22\", \"272J2\", \"277JJ\", \"27777\", \"28888\", \"2QJQQ\", \"2KJKJ\", \"3J37J\", \"3JQQQ\", \"33337\", \"3363J\", \"339JJ\", \"3393J\", \"33933\", \"33A33\", \"35333\", \"377J7\", \"38J33\", \"3T333\", \"3Q33J\", \"3Q333\", \"3KKKK\", \"4JJ74\", \"44J74\", \"442JJ\", \"44447\", \"44448\", \"44494\", \"444Q4\", \"4464J\", \"44644\", \"55J57\", \"55552\", \"555A5\", \"55655\", \"55855\", \"5TTJT\", \"5QQQQ\", \"5K555\", \"5KKKK\", \"6J4J4\", \"62222\", \"63333\", \"66J64\", \"66JKJ\", \"66JA6\", \"666J3\", \"66664\", \"666T6\", \"66966\", \"66Q66\", \"66A66\", \"68666\", \"699J9\", \"74777\", \"75555\", \"77J7T\", \"77877\", \"77977\", \"77T77\", \"79999\", \"85J55\", \"8828J\", \"88688\", \"8878J\", \"88848\", \"8888T\", \"8888K\", \"88K8J\", \"9J444\", \"9J989\", \"92999\", \"95999\", \"96JJ6\", \"977JJ\", \"988JJ\", \"98999\", \"999JA\", \"99993\", \"99994\", \"9999K\", \"9999A\", \"99T99\", \"9AAAA\", \"TJTT7\", \"T8TTT\", \"TTJT2\", \"TT2TT\", \"TT7TT\", \"TTT3T\", \"TTT4T\", \"TTT8J\", \"TTTT6\", \"TATTT\", \"Q3QQQ\", \"Q5555\", \"Q7777\", \"Q8J88\", \"QTTTT\", \"QQJQ4\", \"QQQJ5\", \"QQQ4Q\", \"QQQ6Q\", \"QQQQ2\", \"QQQQ8\", \"KJ9JJ\", \"KQKKK\", \"KKJJ4\", \"KK4KK\", \"KK6KK\", \"KK7KK\", \"KKKJT\", \"KKK8K\", \"KKKTK\", \"KKKQJ\", \"KKKK9\", \"KKKAK\", \"A2AAA\", \"A4444\", \"A5AJA\", \"A8888\", \"A8AAA\", \"ATJAA\", \"AQQQQ\", \"AAJKJ\", \"AA3AA\", \"AA5AA\", \"AA6AA\", \"AAQAA\", \"AAAJ3\", \"AAAJQ\", \"AAA2J\", \"AAA4A\", \"AAATA\", \"JJJJJ\", \"JJ222\", \"JJ8JJ\", \"J2JJ2\", \"J3333\", \"J4J44\", \"J77J7\", \"J7777\", \"222J2\", \"3J33J\", \"444J4\", \"5J55J\", \"55J55\", \"6J66J\", \"6666J\", \"77JJJ\", \"88J8J\", \"888J8\", \"9JJ99\", \"9J999\", \"TJJTT\", \"TTTJT\", \"QQJJQ\", \"QQQQJ\", \"KJKKK\", \"KKKJJ\", \"AJAJA\", \"AAAJA\"]\n"
     ]
    },
    {
     "data": {
      "text/plain": [
       "248256639"
      ]
     },
     "execution_count": 112,
     "metadata": {},
     "output_type": "execute_result"
    }
   ],
   "source": [
    "tot_sum = open(\"07_1.txt\") do f\n",
    "    tot = 0\n",
    "    hands = Vector{String}()\n",
    "    bids = Vector{Int}()\n",
    "    for l in eachline(f)\n",
    "        s_line = split(l, \" \")\n",
    "        push!(hands, s_line[1])\n",
    "        push!(bids, parse(Int, s_line[2]))\n",
    "        # println(s_line)\n",
    "    end\n",
    "    p = sortperm(hands, lt = one_lt_two2)\n",
    "    for i in range(1, length(p))\n",
    "        tot += bids[p[i]]*i\n",
    "    end\n",
    "    println(hands[p])\n",
    "    # println(hands)\n",
    "    (tot)\n",
    "end"
   ]
  },
  {
   "cell_type": "code",
   "execution_count": 106,
   "id": "843b8c77-35bc-420d-a424-c8d6d989ec01",
   "metadata": {},
   "outputs": [
    {
     "data": {
      "text/plain": [
       "2-element Vector{Tuple{Char, Int64}}:\n",
       " ('a', 1)\n",
       " ('b', 2)"
      ]
     },
     "execution_count": 106,
     "metadata": {},
     "output_type": "execute_result"
    }
   ],
   "source": [
    "blahblah = [('a', 1), ('b', 2)]\n"
   ]
  },
  {
   "cell_type": "code",
   "execution_count": 107,
   "id": "a2f05bcf-bc5d-4e16-816e-3ba7192c78fc",
   "metadata": {},
   "outputs": [
    {
     "ename": "LoadError",
     "evalue": "MethodError: no method matching setindex!(::Tuple{Char, Int64}, ::Int64, ::Int64)",
     "output_type": "error",
     "traceback": [
      "MethodError: no method matching setindex!(::Tuple{Char, Int64}, ::Int64, ::Int64)",
      "",
      "Stacktrace:",
      " [1] top-level scope",
      "   @ In[107]:1"
     ]
    }
   ],
   "source": [
    "blahblah[1][2] = 2"
   ]
  },
  {
   "cell_type": "code",
   "execution_count": null,
   "id": "52b123ae-93bc-4913-b0b2-3deab629a1a1",
   "metadata": {},
   "outputs": [],
   "source": []
  }
 ],
 "metadata": {
  "kernelspec": {
   "display_name": "Julia 1.9.4",
   "language": "julia",
   "name": "julia-1.9"
  },
  "language_info": {
   "file_extension": ".jl",
   "mimetype": "application/julia",
   "name": "julia",
   "version": "1.9.4"
  }
 },
 "nbformat": 4,
 "nbformat_minor": 5
}
