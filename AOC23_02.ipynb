{
 "cells": [
  {
   "cell_type": "code",
   "execution_count": 14,
   "id": "c0e2eaee-fe28-4df6-bb3d-bc76a16b752e",
   "metadata": {},
   "outputs": [
    {
     "data": {
      "text/plain": [
       "2512"
      ]
     },
     "execution_count": 14,
     "metadata": {},
     "output_type": "execute_result"
    }
   ],
   "source": [
    "input_cubes = Dict(\"blue\" => 14, \"red\" => 12, \"green\" => 13)\n",
    "\n",
    "tot_sum = open(\"02_1.txt\") do f\n",
    "    tot = 0\n",
    "    g = 1\n",
    "    for l in eachline(f)\n",
    "        cur_dict = Dict(\"blue\" => 0, \"green\" => 0, \"red\" => 0)\n",
    "        all_games = split(l, \":\")[2]\n",
    "        for a_game in split(all_games, \";\")\n",
    "            for a_colour in split(a_game, \",\")\n",
    "                desc = split(strip(a_colour), \" \")\n",
    "                cur_dict[desc[2]] = max(parse(Int64, desc[1]), cur_dict[desc[2]])\n",
    "            end\n",
    "        end\n",
    "\n",
    "        if (input_cubes[\"blue\"] >= cur_dict[\"blue\"]) && (input_cubes[\"red\"] >= cur_dict[\"red\"]) && (input_cubes[\"green\"] >= cur_dict[\"green\"])\n",
    "            tot += g\n",
    "        end\n",
    "        g += 1\n",
    "    end\n",
    "    (tot)\n",
    "end"
   ]
  },
  {
   "cell_type": "code",
   "execution_count": 2,
   "id": "4de166e6-b21e-4ed7-8e94-3789a2338e34",
   "metadata": {},
   "outputs": [
    {
     "data": {
      "text/plain": [
       "\"This is a string; 3 blue, 1 red, 2 green; 1 red, 1 green, 1 blue\""
      ]
     },
     "execution_count": 2,
     "metadata": {},
     "output_type": "execute_result"
    }
   ],
   "source": [
    "a_string = \"This is a string; 3 blue, 1 red, 2 green; 1 red, 1 green, 1 blue\""
   ]
  },
  {
   "cell_type": "code",
   "execution_count": 3,
   "id": "a90471b2-228d-466b-acfb-22f1211359da",
   "metadata": {},
   "outputs": [
    {
     "data": {
      "text/plain": [
       "3-element Vector{SubString{String}}:\n",
       " \"This is a string\"\n",
       " \" 3 blue, 1 red, 2 green\"\n",
       " \" 1 red, 1 green, 1 blue\""
      ]
     },
     "execution_count": 3,
     "metadata": {},
     "output_type": "execute_result"
    }
   ],
   "source": [
    "split(a_string, \";\")"
   ]
  },
  {
   "cell_type": "code",
   "execution_count": 4,
   "id": "d5d30f89-a7a1-48c2-aee5-1523769e957e",
   "metadata": {},
   "outputs": [
    {
     "data": {
      "text/plain": [
       "3-element Vector{SubString{String}}:\n",
       " \" 3 blue\"\n",
       " \" 1 red\"\n",
       " \" 2 green\""
      ]
     },
     "execution_count": 4,
     "metadata": {},
     "output_type": "execute_result"
    }
   ],
   "source": [
    "split(split(a_string, \";\")[2], ',')"
   ]
  },
  {
   "cell_type": "code",
   "execution_count": 6,
   "id": "cf98114f-39f9-480d-b0e8-281d19df53e5",
   "metadata": {},
   "outputs": [
    {
     "data": {
      "text/plain": [
       "3-element Vector{SubString{String}}:\n",
       " \"\"\n",
       " \"3\"\n",
       " \"blue\""
      ]
     },
     "execution_count": 6,
     "metadata": {},
     "output_type": "execute_result"
    }
   ],
   "source": [
    "split(split(split(a_string, \";\")[2], ',')[1], ' ')"
   ]
  },
  {
   "cell_type": "code",
   "execution_count": 18,
   "id": "060657b0-999f-48b2-b1d7-c346ea0c6be7",
   "metadata": {},
   "outputs": [
    {
     "data": {
      "text/plain": [
       "67335"
      ]
     },
     "execution_count": 18,
     "metadata": {},
     "output_type": "execute_result"
    }
   ],
   "source": [
    "tot_sum = open(\"02_1.txt\") do f\n",
    "    tot = 0\n",
    "    for l in eachline(f)\n",
    "        cur_dict = Dict(\"blue\" => 0, \"green\" => 0, \"red\" => 0)\n",
    "        all_games = split(l, \":\")[2]\n",
    "        for a_game in split(all_games, \";\")\n",
    "            for a_colour in split(a_game, \",\")\n",
    "                desc = split(strip(a_colour), \" \")\n",
    "                cur_dict[desc[2]] = max(parse(Int64, desc[1]), cur_dict[desc[2]])\n",
    "            end\n",
    "        end\n",
    "\n",
    "        power_set = cur_dict[\"blue\"] * cur_dict[\"red\"] * cur_dict[\"green\"]\n",
    "        tot += power_set\n",
    "        \n",
    "    end\n",
    "    (tot)\n",
    "end"
   ]
  },
  {
   "cell_type": "code",
   "execution_count": null,
   "id": "3f40a4ba-ffed-4648-aea1-b918d141405b",
   "metadata": {},
   "outputs": [],
   "source": []
  }
 ],
 "metadata": {
  "kernelspec": {
   "display_name": "Julia 1.9.4",
   "language": "julia",
   "name": "julia-1.9"
  },
  "language_info": {
   "file_extension": ".jl",
   "mimetype": "application/julia",
   "name": "julia",
   "version": "1.9.4"
  }
 },
 "nbformat": 4,
 "nbformat_minor": 5
}
