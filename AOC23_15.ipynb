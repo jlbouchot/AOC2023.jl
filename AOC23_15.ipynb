{
 "cells": [
  {
   "cell_type": "code",
   "execution_count": 7,
   "id": "810952cb-66e9-4b9a-9b0e-c774fb071650",
   "metadata": {},
   "outputs": [
    {
     "data": {
      "text/plain": [
       "hash_code (generic function with 1 method)"
      ]
     },
     "execution_count": 7,
     "metadata": {},
     "output_type": "execute_result"
    }
   ],
   "source": [
    "function hash_code(str)\n",
    "    current = 0\n",
    "    for c in str \n",
    "        current = (current+Int(c))*17 % 256\n",
    "    end\n",
    "    return current\n",
    "end"
   ]
  },
  {
   "cell_type": "code",
   "execution_count": 12,
   "id": "38e6697b-f750-45cc-96cc-7b8c089c57e8",
   "metadata": {},
   "outputs": [
    {
     "data": {
      "text/plain": [
       "3"
      ]
     },
     "execution_count": 12,
     "metadata": {},
     "output_type": "execute_result"
    }
   ],
   "source": [
    "hash_code(\"pc\")"
   ]
  },
  {
   "cell_type": "code",
   "execution_count": 10,
   "id": "d39dbd2d-681a-473a-bedf-6c0209a7385f",
   "metadata": {},
   "outputs": [
    {
     "data": {
      "text/plain": [
       "521434"
      ]
     },
     "execution_count": 10,
     "metadata": {},
     "output_type": "execute_result"
    }
   ],
   "source": [
    "(hash_result) = open(\"15_1.txt\") do f\n",
    "    h = 0 \n",
    "\n",
    "    all_strings = split(readline(f), ',')\n",
    "\n",
    "    for a_str in all_strings\n",
    "        h += hash_code(a_str)\n",
    "    end\n",
    "    (h)\n",
    "\n",
    "end"
   ]
  },
  {
   "cell_type": "code",
   "execution_count": 5,
   "id": "162bd4d8-b5be-466e-a846-30732e56410f",
   "metadata": {},
   "outputs": [
    {
     "data": {
      "text/plain": [
       "97"
      ]
     },
     "execution_count": 5,
     "metadata": {},
     "output_type": "execute_result"
    }
   ],
   "source": [
    "Int(\"a\"[1])"
   ]
  },
  {
   "cell_type": "code",
   "execution_count": null,
   "id": "8d146897-c49a-4999-8220-5c35979ba488",
   "metadata": {},
   "outputs": [],
   "source": []
  },
  {
   "cell_type": "code",
   "execution_count": 13,
   "id": "8a1916bf-cd6c-4268-b293-287956defddc",
   "metadata": {},
   "outputs": [],
   "source": [
    "using DataStructures"
   ]
  },
  {
   "cell_type": "code",
   "execution_count": 39,
   "id": "76c2d4d5-7a07-42bb-a540-7077b100f931",
   "metadata": {},
   "outputs": [
    {
     "data": {
      "text/plain": [
       "248279"
      ]
     },
     "execution_count": 39,
     "metadata": {},
     "output_type": "execute_result"
    }
   ],
   "source": [
    "(hash_result) = open(\"15_1.txt\") do f\n",
    "    h = 0 \n",
    "\n",
    "    all_strings = split(readline(f), ',')\n",
    "\n",
    "    all_boxes = DefaultDict(() -> OrderedDict())\n",
    "\n",
    "    for a_str in all_strings\n",
    "        values = split(a_str, ['-', '='])\n",
    "        label = values[1]\n",
    "\n",
    "        box_nb = hash_code(label)\n",
    "\n",
    "        if length(values[2]) > 0\n",
    "            all_boxes[box_nb][label] = parse(Int, values[2])\n",
    "        elseif label in keys(all_boxes[box_nb])\n",
    "            pop!(all_boxes[box_nb], label)\n",
    "        end\n",
    "\n",
    "    end\n",
    "\n",
    "    for (k,v) in all_boxes\n",
    "        for (idx, key) in enumerate(keys(all_boxes[k]))\n",
    "            h += all_boxes[k][key]*(k+1)*idx\n",
    "        end\n",
    "    end\n",
    "\n",
    "    \n",
    "    \n",
    "    (h)\n",
    "\n",
    "end"
   ]
  },
  {
   "cell_type": "code",
   "execution_count": null,
   "id": "e96849e0-24b9-4dcb-82aa-c7be92118164",
   "metadata": {},
   "outputs": [],
   "source": []
  },
  {
   "cell_type": "code",
   "execution_count": null,
   "id": "de5fda60-a73e-40b5-9a05-4bb90890017b",
   "metadata": {},
   "outputs": [],
   "source": []
  },
  {
   "cell_type": "code",
   "execution_count": 14,
   "id": "73181225-97ca-4df9-9587-9a6d2d6b12c5",
   "metadata": {},
   "outputs": [
    {
     "data": {
      "text/plain": [
       "2-element Vector{SubString{String}}:\n",
       " \"abs\"\n",
       " \"1\""
      ]
     },
     "execution_count": 14,
     "metadata": {},
     "output_type": "execute_result"
    }
   ],
   "source": [
    "split(\"abs=1\", ['=', '-'])"
   ]
  },
  {
   "cell_type": "code",
   "execution_count": 27,
   "id": "32bcb080-2131-4650-83a0-f107e39ee365",
   "metadata": {},
   "outputs": [
    {
     "data": {
      "text/plain": [
       "0"
      ]
     },
     "execution_count": 27,
     "metadata": {},
     "output_type": "execute_result"
    }
   ],
   "source": [
    "length(split(\"abs-\", ['=', '-'])[2])"
   ]
  },
  {
   "cell_type": "code",
   "execution_count": 16,
   "id": "580bfcb2-149b-4e84-8961-0ace8ccbc8c5",
   "metadata": {},
   "outputs": [
    {
     "data": {
      "text/plain": [
       "OrderedDict{Any, Any}()"
      ]
     },
     "execution_count": 16,
     "metadata": {},
     "output_type": "execute_result"
    }
   ],
   "source": [
    "blah = OrderedDict()"
   ]
  },
  {
   "cell_type": "code",
   "execution_count": 17,
   "id": "8e513355-59c3-4798-956c-a75319b47380",
   "metadata": {},
   "outputs": [
    {
     "data": {
      "text/plain": [
       "2"
      ]
     },
     "execution_count": 17,
     "metadata": {},
     "output_type": "execute_result"
    }
   ],
   "source": [
    "blah[\"oem\"] = 3\n",
    "blah[\"abc\"] = 2"
   ]
  },
  {
   "cell_type": "code",
   "execution_count": 18,
   "id": "66b6640f-9160-4df3-8f38-a742a9a1a699",
   "metadata": {},
   "outputs": [
    {
     "data": {
      "text/plain": [
       "OrderedDict{Any, Any} with 2 entries:\n",
       "  \"oem\" => 3\n",
       "  \"abc\" => 2"
      ]
     },
     "execution_count": 18,
     "metadata": {},
     "output_type": "execute_result"
    }
   ],
   "source": [
    "blah"
   ]
  },
  {
   "cell_type": "code",
   "execution_count": 19,
   "id": "f7156e86-3ca8-4829-b5a7-76b678971a64",
   "metadata": {},
   "outputs": [
    {
     "data": {
      "text/plain": [
       "5"
      ]
     },
     "execution_count": 19,
     "metadata": {},
     "output_type": "execute_result"
    }
   ],
   "source": [
    "blah[\"awe\"] = 5"
   ]
  },
  {
   "cell_type": "code",
   "execution_count": 20,
   "id": "75934fe4-c4f5-4c77-ac0c-a27e24b2d6b4",
   "metadata": {},
   "outputs": [
    {
     "data": {
      "text/plain": [
       "2"
      ]
     },
     "execution_count": 20,
     "metadata": {},
     "output_type": "execute_result"
    }
   ],
   "source": [
    "pop!(blah, \"abc\")"
   ]
  },
  {
   "cell_type": "code",
   "execution_count": 21,
   "id": "a3a74ba8-925e-46f1-8a35-1624dcd8c8e5",
   "metadata": {},
   "outputs": [
    {
     "data": {
      "text/plain": [
       "OrderedDict{Any, Any} with 2 entries:\n",
       "  \"oem\" => 3\n",
       "  \"awe\" => 5"
      ]
     },
     "execution_count": 21,
     "metadata": {},
     "output_type": "execute_result"
    }
   ],
   "source": [
    "blah"
   ]
  },
  {
   "cell_type": "code",
   "execution_count": 22,
   "id": "b3addac6-03e4-4720-a0ac-dc758b1d8ee9",
   "metadata": {},
   "outputs": [
    {
     "data": {
      "text/plain": [
       "KeySet for a OrderedDict{Any, Any} with 2 entries. Keys:\n",
       "  \"oem\"\n",
       "  \"awe\""
      ]
     },
     "execution_count": 22,
     "metadata": {},
     "output_type": "execute_result"
    }
   ],
   "source": [
    "keys(blah)"
   ]
  },
  {
   "cell_type": "code",
   "execution_count": 23,
   "id": "9967041d-5c8c-4bc3-8b44-551a69d4edf0",
   "metadata": {},
   "outputs": [
    {
     "ename": "LoadError",
     "evalue": "KeyError: key \"unknown\" not found",
     "output_type": "error",
     "traceback": [
      "KeyError: key \"unknown\" not found",
      "",
      "Stacktrace:",
      " [1] pop!(h::OrderedDict{Any, Any}, key::String)",
      "   @ OrderedCollections C:\\Users\\jbouchot\\.julia\\packages\\OrderedCollections\\9C4Uz\\src\\ordered_dict.jl:428",
      " [2] top-level scope",
      "   @ In[23]:1"
     ]
    }
   ],
   "source": [
    "pop!(blah, \"unknown\")"
   ]
  },
  {
   "cell_type": "code",
   "execution_count": null,
   "id": "1025cbae-3df5-48ec-baf8-352157e4588a",
   "metadata": {},
   "outputs": [],
   "source": []
  }
 ],
 "metadata": {
  "kernelspec": {
   "display_name": "Julia 1.9.4",
   "language": "julia",
   "name": "julia-1.9"
  },
  "language_info": {
   "file_extension": ".jl",
   "mimetype": "application/julia",
   "name": "julia",
   "version": "1.9.4"
  }
 },
 "nbformat": 4,
 "nbformat_minor": 5
}
