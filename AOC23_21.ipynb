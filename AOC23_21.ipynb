{
 "cells": [
  {
   "cell_type": "code",
   "execution_count": 10,
   "id": "6a3c831d-3e69-40ca-aade-6690fe4b2593",
   "metadata": {},
   "outputs": [],
   "source": [
    "using DataStructures"
   ]
  },
  {
   "cell_type": "code",
   "execution_count": null,
   "id": "5d0da5d2-ce11-4bd8-b862-19eb13bf5942",
   "metadata": {},
   "outputs": [],
   "source": []
  },
  {
   "cell_type": "code",
   "execution_count": null,
   "id": "0f5904d6-02ac-41ef-a061-422199a6399c",
   "metadata": {},
   "outputs": [],
   "source": []
  },
  {
   "cell_type": "code",
   "execution_count": 24,
   "id": "f1c410b6-4705-44fb-927a-d2fb840e297c",
   "metadata": {},
   "outputs": [
    {
     "data": {
      "text/plain": [
       "3733"
      ]
     },
     "execution_count": 24,
     "metadata": {},
     "output_type": "execute_result"
    }
   ],
   "source": [
    "(nb_cells) = open(\"21_1.txt\") do f\n",
    "\n",
    "    map = []\n",
    "    for l in eachline(f)\n",
    "        push!(map, collect(l))\n",
    "    end\n",
    "\n",
    "    s_row = 0\n",
    "    s_col = 0\n",
    "\n",
    "    for (idx_r, row) in enumerate(map)\n",
    "        if s_row != 0 \n",
    "            break\n",
    "        end\n",
    "        for (idx_c, c) in enumerate(row)\n",
    "            if c == 'S'\n",
    "                s_row = idx_r\n",
    "                s_col = idx_c\n",
    "                break\n",
    "            end\n",
    "        end\n",
    "    end\n",
    "\n",
    "    map[s_row][s_col] = '.'\n",
    "\n",
    "    reachable = Set([[s_row, s_col]])\n",
    "    nb_steps = 64\n",
    "    \n",
    "    for i in range(1, nb_steps)\n",
    "        reached = deepcopy(reachable)\n",
    "        reachable = Set()\n",
    "        for a_cell in reached\n",
    "            for (r, c) in [a_cell + d for d in [[1,0], [0,1], [-1,0], [0,-1]] ]\n",
    "                if map[r][c] == '.'\n",
    "                    push!(reachable, [r,c])\n",
    "                end\n",
    "            end\n",
    "        end\n",
    "    end\n",
    "\n",
    "    (length(reachable))\n",
    "end"
   ]
  },
  {
   "cell_type": "code",
   "execution_count": 20,
   "id": "e20be121-b8f3-4762-9094-bba2a9cb5e5f",
   "metadata": {},
   "outputs": [
    {
     "ename": "LoadError",
     "evalue": "DimensionMismatch: dimensions must match: a has dims (Base.OneTo(2),), b has dims (Base.OneTo(4),), mismatch at 1",
     "output_type": "error",
     "traceback": [
      "DimensionMismatch: dimensions must match: a has dims (Base.OneTo(2),), b has dims (Base.OneTo(4),), mismatch at 1",
      "",
      "Stacktrace:",
      " [1] promote_shape",
      "   @ .\\indices.jl:178 [inlined]",
      " [2] promote_shape",
      "   @ .\\indices.jl:169 [inlined]",
      " [3] +(A::Vector{Int64}, Bs::Vector{Vector{Int64}})",
      "   @ Base .\\arraymath.jl:14",
      " [4] top-level scope",
      "   @ In[20]:1"
     ]
    }
   ],
   "source": [
    "[3,2] + [[1,0], [0,1], [-1,0], [0,-1]]"
   ]
  },
  {
   "cell_type": "code",
   "execution_count": 14,
   "id": "dc67e630-4f4d-4598-99d8-58fe5f162033",
   "metadata": {},
   "outputs": [
    {
     "data": {
      "text/plain": [
       "2-element Vector{Int64}:\n",
       " 4\n",
       " 2"
      ]
     },
     "execution_count": 14,
     "metadata": {},
     "output_type": "execute_result"
    }
   ],
   "source": [
    "[3,2] + [1,0]"
   ]
  },
  {
   "cell_type": "code",
   "execution_count": null,
   "id": "045bebfc-9306-41a0-b914-39fbbfdceb27",
   "metadata": {},
   "outputs": [],
   "source": []
  },
  {
   "cell_type": "code",
   "execution_count": 63,
   "id": "ceee1b63-93e5-46d2-b76c-c69ed8572f39",
   "metadata": {},
   "outputs": [
    {
     "data": {
      "text/plain": [
       "dijkstra (generic function with 1 method)"
      ]
     },
     "execution_count": 63,
     "metadata": {},
     "output_type": "execute_result"
    }
   ],
   "source": [
    "function dijkstra(map, s)\n",
    "    output = length(map)*10*ones(Int, length(map), length(map))\n",
    "    output[s[1],s[2]] = 0\n",
    "    queue = [s]\n",
    "    while length(queue) > 0 \n",
    "        current_cell = pop!(queue)\n",
    "        for (r, c) in [current_cell + d for d in [[1,0], [0,1], [-1,0], [0,-1]] ]\n",
    "            if (r*c == 0 ) || (r == length(map)+1 ) || (c == length(map) + 1) \n",
    "                continue\n",
    "            elseif map[r][c] == '.'\n",
    "                if (output[current_cell[1], current_cell[2]] + 1) < output[r,c]\n",
    "                    output[r,c] = output[current_cell[1], current_cell[2]] + 1\n",
    "                    push!(queue, [r,c])\n",
    "                end\n",
    "            \n",
    "            end\n",
    "\n",
    "        end\n",
    "        \n",
    "    end\n",
    "    \n",
    "    return output\n",
    "                \n",
    "end"
   ]
  },
  {
   "cell_type": "code",
   "execution_count": 64,
   "id": "39333bc4-ebdc-4e75-9eb2-5ba58c683f29",
   "metadata": {},
   "outputs": [
    {
     "data": {
      "text/plain": [
       "3×3 Matrix{Int64}:\n",
       " 2  1  2\n",
       " 1  0  1\n",
       " 2  1  2"
      ]
     },
     "execution_count": 64,
     "metadata": {},
     "output_type": "execute_result"
    }
   ],
   "source": [
    "dijkstra([['.', '.', '.'],['.', 'S', '.'], ['.', '.', '.']], [2,2])"
   ]
  },
  {
   "cell_type": "code",
   "execution_count": null,
   "id": "52eb7051-bb1d-4987-a252-2e77fcfe5dbf",
   "metadata": {},
   "outputs": [],
   "source": []
  },
  {
   "cell_type": "code",
   "execution_count": 97,
   "id": "50a80ac9-9898-49d5-99ca-00ec5d4d51e2",
   "metadata": {},
   "outputs": [
    {
     "data": {
      "text/plain": [
       "617724847259731"
      ]
     },
     "execution_count": 97,
     "metadata": {},
     "output_type": "execute_result"
    }
   ],
   "source": [
    "(nb_cells) = open(\"21_1.txt\") do f\n",
    "\n",
    "    map = []\n",
    "    for l in eachline(f)\n",
    "        push!(map, collect(l))\n",
    "    end\n",
    "\n",
    "    s_row = 0\n",
    "    s_col = 0\n",
    "\n",
    "    for (idx_r, row) in enumerate(map)\n",
    "        if s_row != 0 \n",
    "            break\n",
    "        end\n",
    "        for (idx_c, c) in enumerate(row)\n",
    "            if c == 'S'\n",
    "                s_row = idx_r\n",
    "                s_col = idx_c\n",
    "                break\n",
    "            end\n",
    "        end\n",
    "    end\n",
    "\n",
    "    map[s_row][s_col] = '.'\n",
    "\n",
    "    reachable = Set([[s_row, s_col]])\n",
    "    nb_steps = 26501365 # nb_full_length * length(map) + last_steps\n",
    "    nb_full_length = 202300\n",
    "    last_steps = 65\n",
    "\n",
    "    first_map = dijkstra(map, [s_row, s_col])\n",
    "    nb_even = 0\n",
    "    nb_odd = 0\n",
    "    for el in first_map\n",
    "        if (el != 1310) \n",
    "            if (el % 2) == 0\n",
    "                nb_even += 1\n",
    "            else \n",
    "                nb_odd += 1\n",
    "            end\n",
    "        end\n",
    "    end\n",
    "\n",
    "    nb_even_maps = nb_full_length*nb_full_length\n",
    "    nb_odd_maps = nb_even_maps-nb_full_length*2+1\n",
    "\n",
    "    nb_reachable = nb_even_maps*nb_even + nb_odd_maps*nb_odd\n",
    "\n",
    "    n = length(map)\n",
    "    n = 131\n",
    "    midway = (n+1) ÷ 2\n",
    "    midway = 65\n",
    "    N_map = dijkstra(map, [n, midway] )\n",
    "    S_map = dijkstra(map, [1, midway] )\n",
    "    W_map = dijkstra(map, [midway, n] )\n",
    "    E_map = dijkstra(map, [midway, 1] )\n",
    "    NE_map = dijkstra(map, [n, 1] )\n",
    "    SE_map = dijkstra(map, [1, 1] )\n",
    "    NW_map = dijkstra(map, [n, n] )\n",
    "    SW_map = dijkstra(map, [1, n] )\n",
    "\n",
    "    for this_map in [N_map, S_map, E_map, W_map]\n",
    "        for el in this_map\n",
    "            if (el <= 131) && ((el % 2) == 1)\n",
    "                nb_reachable += 1\n",
    "            end\n",
    "        end\n",
    "    end\n",
    "    for this_map in [NE_map, SE_map, NW_map, SW_map]\n",
    "        for el in this_map\n",
    "            if (el <= 65) && ((el % 2) == 1)\n",
    "                nb_reachable += (nb_full_length-1)\n",
    "            elseif (el <= 65) && ((el % 2) == 0)\n",
    "                nb_reachable += nb_full_length\n",
    "            end\n",
    "        end\n",
    "    end\n",
    "\n",
    "    (nb_reachable)\n",
    "end"
   ]
  },
  {
   "cell_type": "code",
   "execution_count": 67,
   "id": "f8114223-c9a2-451c-95c5-73cef4368769",
   "metadata": {},
   "outputs": [
    {
     "data": {
      "text/plain": [
       "202300.4961832061"
      ]
     },
     "execution_count": 67,
     "metadata": {},
     "output_type": "execute_result"
    }
   ],
   "source": [
    "26501365 / 131"
   ]
  },
  {
   "cell_type": "code",
   "execution_count": 68,
   "id": "20cdb6bc-ff6b-4347-a81a-51339dad705b",
   "metadata": {},
   "outputs": [
    {
     "data": {
      "text/plain": [
       "202300.0"
      ]
     },
     "execution_count": 68,
     "metadata": {},
     "output_type": "execute_result"
    }
   ],
   "source": [
    "26501300 / 131"
   ]
  },
  {
   "cell_type": "code",
   "execution_count": 75,
   "id": "e76973bb-625e-404b-88ac-d3701d12bf66",
   "metadata": {},
   "outputs": [
    {
     "name": "stdout",
     "output_type": "stream",
     "text": [
      "617723271331195 is too low\n"
     ]
    }
   ],
   "source": [
    "println(\"617723271331195 is too low\")"
   ]
  },
  {
   "cell_type": "code",
   "execution_count": 77,
   "id": "521f80ce-d98a-433c-a2f7-706beb9b900d",
   "metadata": {},
   "outputs": [
    {
     "name": "stdout",
     "output_type": "stream",
     "text": [
      "617723271331715 is not the right anwser\n"
     ]
    }
   ],
   "source": [
    "println(\"617723271331715 is not the right anwser\")"
   ]
  },
  {
   "cell_type": "code",
   "execution_count": 80,
   "id": "d8e75da8-9b86-4d0f-92b4-807cf0687632",
   "metadata": {},
   "outputs": [
    {
     "name": "stdout",
     "output_type": "stream",
     "text": [
      "617724041690115 is not the right anwser\n"
     ]
    }
   ],
   "source": [
    "println(\"617724041690115 is not the right anwser\")"
   ]
  },
  {
   "cell_type": "code",
   "execution_count": 82,
   "id": "7b0035ac-1f22-4795-a81e-24401e63e5b8",
   "metadata": {},
   "outputs": [
    {
     "name": "stdout",
     "output_type": "stream",
     "text": [
      "617724041690007 is not the right anwser\n"
     ]
    }
   ],
   "source": [
    "println(\"617724041690007 is not the right anwser\")"
   ]
  },
  {
   "cell_type": "code",
   "execution_count": 83,
   "id": "73972972-3569-4ee9-9fb5-626f71d75531",
   "metadata": {},
   "outputs": [
    {
     "name": "stdout",
     "output_type": "stream",
     "text": [
      "617688476529171 is not the right anwser\n"
     ]
    }
   ],
   "source": [
    "println(\"617688476529171 is not the right anwser\")"
   ]
  },
  {
   "cell_type": "code",
   "execution_count": 86,
   "id": "3f1b5b67-cf54-4170-95ee-bcb2939225e2",
   "metadata": {},
   "outputs": [
    {
     "name": "stdout",
     "output_type": "stream",
     "text": [
      "Correct answer obtainer through another approach in python is 617729401414635\n"
     ]
    }
   ],
   "source": [
    "println(\"Correct answer obtainer through another approach in python is 617729401414635\")"
   ]
  },
  {
   "cell_type": "code",
   "execution_count": 89,
   "id": "4fdb3e4a-39e6-455d-a493-917681a27a11",
   "metadata": {},
   "outputs": [
    {
     "data": {
      "text/plain": [
       "202300.4961832061"
      ]
     },
     "execution_count": 89,
     "metadata": {},
     "output_type": "execute_result"
    }
   ],
   "source": [
    "26501365 / 131"
   ]
  },
  {
   "cell_type": "code",
   "execution_count": 90,
   "id": "f11216a6-eb40-4bf3-bdd2-9bf11b2508e9",
   "metadata": {},
   "outputs": [
    {
     "data": {
      "text/plain": [
       "5324509322"
      ]
     },
     "execution_count": 90,
     "metadata": {},
     "output_type": "execute_result"
    }
   ],
   "source": [
    "617729401414635 - 617724076905313"
   ]
  },
  {
   "cell_type": "code",
   "execution_count": null,
   "id": "8d1375f9-36cd-4fb3-be2e-9f8f1f7df931",
   "metadata": {},
   "outputs": [],
   "source": []
  },
  {
   "cell_type": "code",
   "execution_count": null,
   "id": "90ea518b-1325-4d34-aaee-a1b83dd6c0e8",
   "metadata": {},
   "outputs": [],
   "source": []
  }
 ],
 "metadata": {
  "kernelspec": {
   "display_name": "Julia 1.9.4",
   "language": "julia",
   "name": "julia-1.9"
  },
  "language_info": {
   "file_extension": ".jl",
   "mimetype": "application/julia",
   "name": "julia",
   "version": "1.9.4"
  }
 },
 "nbformat": 4,
 "nbformat_minor": 5
}
