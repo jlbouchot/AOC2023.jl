{
 "cells": [
  {
   "cell_type": "code",
   "execution_count": 1,
   "id": "5ebdeff6-8d5d-46db-ac85-9b4efa4c0919",
   "metadata": {},
   "outputs": [],
   "source": [
    "using DataStructures"
   ]
  },
  {
   "cell_type": "code",
   "execution_count": 2,
   "id": "4eff4fb5-bdf3-4277-883e-908ec0b9b2ca",
   "metadata": {},
   "outputs": [
    {
     "data": {
      "text/plain": [
       "find_path (generic function with 4 methods)"
      ]
     },
     "execution_count": 2,
     "metadata": {},
     "output_type": "execute_result"
    }
   ],
   "source": [
    "function find_path(graph, visited = [], start_point = (1,2), target_point = (23,22))\n",
    "    if start_point == target_point\n",
    "        return 0\n",
    "    end\n",
    "\n",
    "    max_val = 0\n",
    "\n",
    "    for a_next in keys(graph[(start_point)][\"next\"])\n",
    "        if !(a_next in visited)\n",
    "            new_visited = deepcopy(visited)\n",
    "            push!(new_visited, a_next)\n",
    "            max_val = max(max_val, find_path(graph, new_visited, a_next, target_point) + graph[(start_point)][\"next\"][a_next])\n",
    "        end\n",
    "    end\n",
    "        \n",
    "    return max_val\n",
    "end"
   ]
  },
  {
   "cell_type": "code",
   "execution_count": 3,
   "id": "01b10269-426c-4e9c-9c99-9823cb9deeb6",
   "metadata": {},
   "outputs": [
    {
     "data": {
      "text/plain": [
       "Dict{Tuple{Int64, Int64}, Dict{String, Any}} with 9 entries:\n",
       "  (1, 2)   => Dict(\"next\"=>Dict((6, 4)=>15), \"type\"=>'.')\n",
       "  (20, 14) => Dict(\"next\"=>Dict((20, 20)=>10), \"type\"=>'.')\n",
       "  (14, 6)  => Dict(\"next\"=>Dict((20, 14)=>38, (14, 14)=>12), \"type\"=>'.')\n",
       "  (12, 22) => Dict(\"next\"=>Dict((20, 20)=>10), \"type\"=>'.')\n",
       "  (4, 12)  => Dict(\"next\"=>Dict((12, 22)=>30, (14, 14)=>24), \"type\"=>'.')\n",
       "  (14, 14) => Dict(\"next\"=>Dict((20, 14)=>10, (12, 22)=>18), \"type\"=>'.')\n",
       "  (20, 20) => Dict(\"next\"=>Dict((23, 22)=>5), \"type\"=>'.')\n",
       "  (23, 22) => Dict(\"next\"=>Dict{Any, Any}(), \"type\"=>'.')\n",
       "  (6, 4)   => Dict(\"next\"=>Dict((1, 2)=>15, (14, 6)=>22, (4, 12)=>22), \"type\"=>…"
      ]
     },
     "execution_count": 3,
     "metadata": {},
     "output_type": "execute_result"
    }
   ],
   "source": [
    "test_dict = Dict((4, 12) => Dict(\"next\" => Dict((12, 22) => 30, (14, 14) => 24), \"type\" => '.'), (1, 2) => Dict(\"next\" => Dict((6, 4) => 15), \"type\" => '.'), (12, 22) => Dict(\"next\" => Dict((20, 20) => 10), \"type\" => '.'), (23, 22) => Dict(\"next\" => Dict(), \"type\" => '.'), (20, 14) => Dict(\"next\" => Dict((20, 20) => 10), \"type\" => '.'), (14, 14) => Dict(\"next\" => Dict((20, 14) => 10, (12, 22) => 18), \"type\" => '.'), (20, 20) => Dict(\"next\" => Dict((23, 22) => 5), \"type\" => '.'), (6, 4) => Dict(\"next\" => Dict((1, 2) => 15, (14, 6) => 22, (4, 12) => 22), \"type\" => '.'), (14, 6) => Dict(\"next\" => Dict((20, 14) => 38, (14, 14) => 12), \"type\" => '.'))"
   ]
  },
  {
   "cell_type": "code",
   "execution_count": 4,
   "id": "a938f46c-33ca-49be-9956-0fc20064a003",
   "metadata": {},
   "outputs": [
    {
     "data": {
      "text/plain": [
       "Dict{String, Any} with 2 entries:\n",
       "  \"next\" => Dict((1, 2)=>15, (14, 6)=>22, (4, 12)=>22)\n",
       "  \"type\" => '.'"
      ]
     },
     "execution_count": 4,
     "metadata": {},
     "output_type": "execute_result"
    }
   ],
   "source": [
    "test_dict[(6,4)]"
   ]
  },
  {
   "cell_type": "code",
   "execution_count": 5,
   "id": "6bb798ae-99e3-4b0c-ae21-44456f8a3156",
   "metadata": {},
   "outputs": [
    {
     "data": {
      "text/plain": [
       "94"
      ]
     },
     "execution_count": 5,
     "metadata": {},
     "output_type": "execute_result"
    }
   ],
   "source": [
    "find_path(test_dict)"
   ]
  },
  {
   "cell_type": "code",
   "execution_count": 6,
   "id": "ad8f57c2-f972-4cfa-9bd3-9f62cf60c97b",
   "metadata": {},
   "outputs": [
    {
     "data": {
      "text/plain": [
       "2106"
      ]
     },
     "execution_count": 6,
     "metadata": {},
     "output_type": "execute_result"
    }
   ],
   "source": [
    "(long_path) = open(\"23_1.txt\") do f\n",
    "    l_path = 0\n",
    "    graph = Dict()\n",
    "    # Start by reading everything\n",
    "    l = readline(f)\n",
    "    start = []\n",
    "    target = (141,140)\n",
    "    nb_rows = 0\n",
    "    nb_cols = 0\n",
    "    for (idx_c, c) in enumerate(collect(l))\n",
    "        if c == '.'\n",
    "            graph[(1, idx_c)] = Dict(\"type\" => c, \"next\" => DefaultDict(Int))\n",
    "            start = (1, idx_c)\n",
    "            break\n",
    "        end\n",
    "    end\n",
    "    for (idx_r, l) in enumerate(eachline(f))\n",
    "        for (idx_c, c) in enumerate(collect(l))\n",
    "            if c != '#'\n",
    "                graph[(idx_r+1, idx_c)] = Dict(\"type\" => c, \"next\" => DefaultDict(Int))\n",
    "            end\n",
    "            nb_cols = idx_c\n",
    "        end\n",
    "        nb_rows = idx_r\n",
    "    end\n",
    "\n",
    "    # Find all neighbours\n",
    "    for (r,c) in keys(graph)\n",
    "        if (r-1,c) in keys(graph)\n",
    "            # push!(graph[(r,c)][\"next\"], (r-1,c))\n",
    "            graph[(r,c)][\"next\"][(r-1,c)] = graph[(r,c)][\"type\"] == 'v' ? 10001 : 1\n",
    "        end\n",
    "        if (r+1,c) in keys(graph)\n",
    "            # push!(graph[(r,c)][\"next\"], (r+1,c))\n",
    "            graph[(r,c)][\"next\"][(r+1,c)] = graph[(r,c)][\"type\"] == '^' ? 10001 : 1\n",
    "        end\n",
    "        if (r,c-1) in keys(graph)\n",
    "            #push!(graph[(r,c)][\"next\"], (r,c-1))\n",
    "            # println(\"($r,$c) gives\")\n",
    "            graph[(r,c)][\"next\"][(r,c-1)] = graph[(r,c)][\"type\"] == '>' ? 10001 : 1\n",
    "        end\n",
    "        if (r,c+1) in keys(graph)\n",
    "            #push!(graph[(r,c)][\"next\"], (r,c+1))\n",
    "            graph[(r,c)][\"next\"][(r,c+1)] = graph[(r,c)][\"type\"] == '<' ? 10001 : 1\n",
    "        end\n",
    "    end\n",
    "\n",
    "    all_keys = keys(graph)\n",
    "\n",
    "    \n",
    "    #println(\"Wait\")\n",
    "    #println(\"Wait\")\n",
    "    #tries = [(1,2),(4,11), (4,12), (6,5)]\n",
    "    #for a_try in tries\n",
    "    #    println(\"$a_try gives $(graph[a_try])\")\n",
    "    #end\n",
    "    #println(\"Wait\")\n",
    "    #println(\"Wait\")\n",
    "\n",
    "    for a_point in all_keys\n",
    "        if (length(graph[a_point][\"next\"]) == 2)\n",
    "            l_ = pop!(graph[a_point][\"next\"])\n",
    "            r_ = pop!(graph[a_point][\"next\"]) # This guy is empty now!\n",
    "            l = l_[1]\n",
    "            l_dist = l_[2]\n",
    "            r = r_[1]\n",
    "            r_dist = r_[2]\n",
    "            delete!(graph[l][\"next\"], a_point)\n",
    "            delete!(graph[r][\"next\"], a_point)\n",
    "            # deleteat!(graph[l][\"next\"], findall(x->x==a_point,graph[l][\"next\"]))\n",
    "            # deleteat!(graph[r][\"next\"], findall(x->x==a_point,graph[r][\"next\"]))\n",
    "            push!(graph[l][\"next\"], [r, r_dist < 10000 ? ((r_dist+l_dist) % 10000) : r_dist+l_dist])\n",
    "            push!(graph[r][\"next\"], [l, l_dist < 10000 ? ((r_dist+l_dist) % 10000) : r_dist+l_dist])\n",
    "            delete!(graph, a_point)\n",
    "        end\n",
    "        #for a in keys(graph)\n",
    "        #    if a[1] == a_point[1]\n",
    "        #        println(\"Current $a is $(graph[a])\\n\\n\")\n",
    "        #    end\n",
    "        #end\n",
    "    end\n",
    "\n",
    "\n",
    "\n",
    "    for a_node in keys(graph)\n",
    "        for a_neighbour in keys(graph[a_node][\"next\"])\n",
    "            # println(graph[a_node][\"next\"][a_neighbour])\n",
    "            if graph[a_node][\"next\"][a_neighbour] > 10000\n",
    "                # println(\"Deleting from $ \")\n",
    "                delete!(graph[a_node][\"next\"], a_neighbour)\n",
    "            end\n",
    "            \n",
    "        end\n",
    "    end\n",
    "            \n",
    "    \n",
    "    # println(graph)\n",
    "       \n",
    "    (find_path(graph, [], start, target))\n",
    "\n",
    "    \n",
    "end"
   ]
  },
  {
   "cell_type": "code",
   "execution_count": 7,
   "id": "7d52a599-50d3-47ae-9740-d2cf71e5e16d",
   "metadata": {},
   "outputs": [
    {
     "data": {
      "text/plain": [
       "find_path2 (generic function with 4 methods)"
      ]
     },
     "execution_count": 7,
     "metadata": {},
     "output_type": "execute_result"
    }
   ],
   "source": [
    "function find_path2(graph, visited = [(1,2)], start_point = (1,2), target_point = (23,22))\n",
    "    if start_point == target_point\n",
    "        return 0\n",
    "    end\n",
    "    #println(\"visited is $visited\")\n",
    "    nexts = graph[(start_point)][\"next\"]\n",
    "    #println(\"Current point is $start_point with $nexts\")\n",
    "\n",
    "    max_val = -1000\n",
    "\n",
    "    for a_next in keys(nexts)\n",
    "        if !(a_next in visited)\n",
    "            new_visited = deepcopy(visited)\n",
    "            push!(new_visited, a_next)\n",
    "            max_val = max(max_val, find_path2(graph, new_visited, a_next, target_point) + graph[(start_point)][\"next\"][a_next])\n",
    "        end\n",
    "    end\n",
    "        \n",
    "    return max_val\n",
    "end"
   ]
  },
  {
   "cell_type": "code",
   "execution_count": 16,
   "id": "53a0170d-c1ec-4dcc-a8b7-ce69b5431d7f",
   "metadata": {},
   "outputs": [
    {
     "name": "stdout",
     "output_type": "stream",
     "text": [
      "Dict{Any, Any}((64, 82) => Dict{String, Any}(\"next\" => DefaultDict{Any, Any, DataType}((36, 88) => 182, (54, 112) => 144, (62, 66) => 70, (88, 80) => 90), \"type\" => '.'), (88, 80) => Dict{String, Any}(\"next\" => DefaultDict{Any, Any, DataType}((84, 68) => 40, (110, 88) => 142, (80, 106) => 174, (64, 82) => 90), \"type\" => '.'), (12, 106) => Dict{String, Any}(\"next\" => DefaultDict{Any, Any, DataType}((6, 88) => 96, (44, 124) => 610, (38, 100) => 156), \"type\" => '.'), (1, 2) => Dict{String, Any}(\"next\" => DefaultDict{Any, Any, DataType}((20, 20) => 165), \"type\" => '.'), (141, 140) => Dict{String, Any}(\"next\" => DefaultDict{Any, Any, DataType}((134, 136) => 23), \"type\" => '.'), (100, 136) => Dict{String, Any}(\"next\" => DefaultDict{Any, Any, DataType}((80, 138) => 98, (134, 136) => 182, (106, 108) => 182), \"type\" => '.'), (80, 106) => Dict{String, Any}(\"next\" => DefaultDict{Any, Any, DataType}((80, 138) => 212, (54, 112) => 144, (106, 108) => 148, (88, 80) => 174), \"type\" => '.'), (106, 10) => Dict{String, Any}(\"next\" => DefaultDict{Any, Any, DataType}((90, 6) => 104, (110, 34) => 140, (138, 34) => 380), \"type\" => '.'), (132, 56) => Dict{String, Any}(\"next\" => DefaultDict{Any, Any, DataType}((104, 62) => 202, (138, 34) => 112, (134, 84) => 190), \"type\" => '.'), (106, 108) => Dict{String, Any}(\"next\" => DefaultDict{Any, Any, DataType}((110, 88) => 120, (80, 106) => 148, (132, 114) => 148, (100, 136) => 182), \"type\" => '.'), (104, 62) => Dict{String, Any}(\"next\" => DefaultDict{Any, Any, DataType}((84, 68) => 106, (110, 88) => 188, (110, 34) => 146, (132, 56) => 202), \"type\" => '.'), (58, 132) => Dict{String, Any}(\"next\" => DefaultDict{Any, Any, DataType}((80, 138) => 132, (44, 124) => 122, (54, 112) => 96), \"type\" => '.'), (44, 124) => Dict{String, Any}(\"next\" => DefaultDict{Any, Any, DataType}((58, 132) => 122, (38, 100) => 122, (12, 106) => 610), \"type\" => '.'), (134, 136) => Dict{String, Any}(\"next\" => DefaultDict{Any, Any, DataType}((141, 140) => 23, (132, 114) => 160, (100, 136) => 182), \"type\" => '.'), (54, 36) => Dict{String, Any}(\"next\" => DefaultDict{Any, Any, DataType}((66, 18) => 98, (82, 36) => 156, (62, 66) => 214, (32, 38) => 128), \"type\" => '.'), (40, 14) => Dict{String, Any}(\"next\" => DefaultDict{Any, Any, DataType}((66, 18) => 266, (20, 20) => 170, (32, 38) => 112), \"type\" => '.'), (132, 114) => Dict{String, Any}(\"next\" => DefaultDict{Any, Any, DataType}((134, 136) => 160, (106, 108) => 148, (134, 84) => 248), \"type\" => '.'), (6, 88) => Dict{String, Any}(\"next\" => DefaultDict{Any, Any, DataType}((36, 88) => 182, (20, 62) => 228, (12, 106) => 96), \"type\" => '.'), (84, 68) => Dict{String, Any}(\"next\" => DefaultDict{Any, Any, DataType}((104, 62) => 106, (82, 36) => 210, (62, 66) => 92, (88, 80) => 40), \"type\" => '.'), (20, 62) => Dict{String, Any}(\"next\" => DefaultDict{Any, Any, DataType}((6, 88) => 228, (42, 60) => 100, (6, 30) => 258), \"type\" => '.'), (6, 30) => Dict{String, Any}(\"next\" => DefaultDict{Any, Any, DataType}((20, 62) => 258, (20, 20) => 112, (32, 38) => 126), \"type\" => '.'), (66, 18) => Dict{String, Any}(\"next\" => DefaultDict{Any, Any, DataType}((90, 6) => 164, (54, 36) => 98, (40, 14) => 266), \"type\" => '.'), (80, 138) => Dict{String, Any}(\"next\" => DefaultDict{Any, Any, DataType}((58, 132) => 132, (80, 106) => 212, (100, 136) => 98), \"type\" => '.'), (134, 84) => Dict{String, Any}(\"next\" => DefaultDict{Any, Any, DataType}((110, 88) => 156, (132, 114) => 248, (132, 56) => 190), \"type\" => '.'), (62, 66) => Dict{String, Any}(\"next\" => DefaultDict{Any, Any, DataType}((84, 68) => 92, (54, 36) => 214, (42, 60) => 90, (64, 82) => 70), \"type\" => '.'), (38, 100) => Dict{String, Any}(\"next\" => DefaultDict{Any, Any, DataType}((36, 88) => 50, (54, 112) => 76, (44, 124) => 122, (12, 106) => 156), \"type\" => '.'), (90, 6) => Dict{String, Any}(\"next\" => DefaultDict{Any, Any, DataType}((66, 18) => 164, (82, 36) => 194, (106, 10) => 104), \"type\" => '.'), (32, 38) => Dict{String, Any}(\"next\" => DefaultDict{Any, Any, DataType}((54, 36) => 128, (42, 60) => 136, (6, 30) => 126, (40, 14) => 112), \"type\" => '.'), (20, 20) => Dict{String, Any}(\"next\" => DefaultDict{Any, Any, DataType}((1, 2) => 165, (6, 30) => 112, (40, 14) => 170), \"type\" => '.'), (42, 60) => Dict{String, Any}(\"next\" => DefaultDict{Any, Any, DataType}((36, 88) => 154, (20, 62) => 100, (62, 66) => 90, (32, 38) => 136), \"type\" => '.'), (110, 34) => Dict{String, Any}(\"next\" => DefaultDict{Any, Any, DataType}((104, 62) => 146, (82, 36) => 178, (138, 34) => 172, (106, 10) => 140), \"type\" => '.'), (36, 88) => Dict{String, Any}(\"next\" => DefaultDict{Any, Any, DataType}((6, 88) => 182, (64, 82) => 182, (42, 60) => 154, (38, 100) => 50), \"type\" => '.'), (110, 88) => Dict{String, Any}(\"next\" => DefaultDict{Any, Any, DataType}((106, 108) => 120, (104, 62) => 188, (134, 84) => 156, (88, 80) => 142), \"type\" => '.'), (54, 112) => Dict{String, Any}(\"next\" => DefaultDict{Any, Any, DataType}((58, 132) => 96, (80, 106) => 144, (64, 82) => 144, (38, 100) => 76), \"type\" => '.'), (138, 34) => Dict{String, Any}(\"next\" => DefaultDict{Any, Any, DataType}((110, 34) => 172, (132, 56) => 112, (106, 10) => 380), \"type\" => '.'), (82, 36) => Dict{String, Any}(\"next\" => DefaultDict{Any, Any, DataType}((84, 68) => 210, (90, 6) => 194, (54, 36) => 156, (110, 34) => 178), \"type\" => '.'))\n"
     ]
    },
    {
     "data": {
      "text/plain": [
       "6350"
      ]
     },
     "execution_count": 16,
     "metadata": {},
     "output_type": "execute_result"
    }
   ],
   "source": [
    "(long_path) = open(\"23_1.txt\") do f\n",
    "    l_path = 0\n",
    "    graph = Dict()\n",
    "    # Start by reading everything\n",
    "    l = readline(f)\n",
    "    start = []\n",
    "    target = (141,140)\n",
    "    nb_rows = 0\n",
    "    nb_cols = 0\n",
    "    for (idx_c, c) in enumerate(collect(l))\n",
    "        if c == '.'\n",
    "            graph[(1, idx_c)] = Dict(\"type\" => c, \"next\" => DefaultDict(Int))\n",
    "            start = (1, idx_c)\n",
    "            break\n",
    "        end\n",
    "    end\n",
    "    for (idx_r, l) in enumerate(eachline(f))\n",
    "        for (idx_c, c) in enumerate(collect(l))\n",
    "            if c != '#'\n",
    "                graph[(idx_r+1, idx_c)] = Dict(\"type\" => c, \"next\" => DefaultDict(Int))\n",
    "            end\n",
    "            nb_cols = idx_c\n",
    "        end\n",
    "        nb_rows = idx_r\n",
    "    end\n",
    "\n",
    "    # Find all neighbours\n",
    "    for (r,c) in keys(graph)\n",
    "        if (r-1,c) in keys(graph)\n",
    "            # push!(graph[(r,c)][\"next\"], (r-1,c))\n",
    "            graph[(r,c)][\"next\"][(r-1,c)] = 1\n",
    "        end\n",
    "        if (r+1,c) in keys(graph)\n",
    "            # push!(graph[(r,c)][\"next\"], (r+1,c))\n",
    "            graph[(r,c)][\"next\"][(r+1,c)] = 1\n",
    "        end\n",
    "        if (r,c-1) in keys(graph)\n",
    "            #push!(graph[(r,c)][\"next\"], (r,c-1))\n",
    "            # println(\"($r,$c) gives\")\n",
    "            graph[(r,c)][\"next\"][(r,c-1)] = 1\n",
    "        end\n",
    "        if (r,c+1) in keys(graph)\n",
    "            #push!(graph[(r,c)][\"next\"], (r,c+1))\n",
    "            graph[(r,c)][\"next\"][(r,c+1)] = 1\n",
    "        end\n",
    "    end\n",
    "\n",
    "    all_keys = keys(graph)\n",
    "\n",
    "\n",
    "    for a_point in all_keys\n",
    "        if (length(graph[a_point][\"next\"]) == 2)\n",
    "            l_ = pop!(graph[a_point][\"next\"])\n",
    "            r_ = pop!(graph[a_point][\"next\"]) # This guy is empty now!\n",
    "            l = l_[1]\n",
    "            l_dist = l_[2]\n",
    "            r = r_[1]\n",
    "            r_dist = r_[2]\n",
    "            delete!(graph[l][\"next\"], a_point)\n",
    "            delete!(graph[r][\"next\"], a_point)\n",
    "            # deleteat!(graph[l][\"next\"], findall(x->x==a_point,graph[l][\"next\"]))\n",
    "            # deleteat!(graph[r][\"next\"], findall(x->x==a_point,graph[r][\"next\"]))\n",
    "            push!(graph[l][\"next\"], [r, r_dist+l_dist])\n",
    "            push!(graph[r][\"next\"], [l, r_dist+l_dist])\n",
    "            delete!(graph, a_point)\n",
    "        end\n",
    "        #for a in keys(graph)\n",
    "        #    if a[1] == a_point[1]\n",
    "        #        println(\"Current $a is $(graph[a])\\n\\n\")\n",
    "        #    end\n",
    "        #end\n",
    "    end\n",
    "\n",
    "            \n",
    "    \n",
    "    println(graph)\n",
    "    # (0)   \n",
    "    (find_path2(graph, [start], start, target))\n",
    "\n",
    "    \n",
    "end"
   ]
  },
  {
   "cell_type": "code",
   "execution_count": 9,
   "id": "5f033abf-b14c-442e-98eb-fb4bfecee5b5",
   "metadata": {},
   "outputs": [
    {
     "name": "stdout",
     "output_type": "stream",
     "text": [
      "6401 is not the right answer\n"
     ]
    }
   ],
   "source": [
    "println(\"6401 is not the right answer\")"
   ]
  },
  {
   "cell_type": "code",
   "execution_count": 10,
   "id": "c182de3c-8232-4566-a47d-58a5dd7dbb44",
   "metadata": {},
   "outputs": [
    {
     "data": {
      "text/plain": [
       "Dict{Tuple{Int64, Int64}, Dict{String, Any}} with 9 entries:\n",
       "  (1, 2)   => Dict(\"next\"=>Dict((6, 4)=>15), \"type\"=>'.')\n",
       "  (20, 14) => Dict(\"next\"=>Dict((14, 6)=>38, (20, 20)=>10, (14, 14)=>10), \"type…\n",
       "  (14, 6)  => Dict(\"next\"=>Dict((20, 14)=>38, (14, 14)=>12, (6, 4)=>22), \"type\"…\n",
       "  (12, 22) => Dict(\"next\"=>Dict((4, 12)=>30, (20, 20)=>10, (14, 14)=>18), \"type…\n",
       "  (4, 12)  => Dict(\"next\"=>Dict((12, 22)=>30, (14, 14)=>24, (6, 4)=>22), \"type\"…\n",
       "  (14, 14) => Dict(\"next\"=>Dict((20, 14)=>10, (14, 6)=>12, (12, 22)=>18, (4, 12…\n",
       "  (20, 20) => Dict(\"next\"=>Dict((20, 14)=>10, (12, 22)=>10, (23, 22)=>5), \"type…\n",
       "  (23, 22) => Dict(\"next\"=>Dict((20, 20)=>5), \"type\"=>'.')\n",
       "  (6, 4)   => Dict(\"next\"=>Dict((1, 2)=>15, (14, 6)=>22, (4, 12)=>22), \"type\"=>…"
      ]
     },
     "execution_count": 10,
     "metadata": {},
     "output_type": "execute_result"
    }
   ],
   "source": [
    "full_test = Dict((4, 12) => Dict(\"next\" => Dict((12, 22) => 30, (14, 14) => 24, (6, 4) => 22), \"type\" => '.'), (1, 2) => Dict(\"next\" => Dict((6, 4) => 15), \"type\" => '.'), (12, 22) => Dict(\"next\" => Dict((4, 12) => 30, (20, 20) => 10, (14, 14) => 18), \"type\" => '.'), (23, 22) => Dict(\"next\" => Dict((20, 20) => 5), \"type\" => '.'), (20, 14) => Dict(\"next\" => Dict((14, 6) => 38, (20, 20) => 10, (14, 14) => 10), \"type\" => '.'), (14, 14) => Dict(\"next\" => Dict((20, 14) => 10, (14, 6) => 12, (12, 22) => 18, (4, 12) => 24), \"type\" => '.'), (20, 20) => Dict(\"next\" => Dict((20, 14) => 10, (12, 22) => 10, (23, 22) => 5), \"type\" => '.'), (6, 4) => Dict(\"next\" => Dict((1, 2) => 15, (14, 6) => 22, (4, 12) => 22), \"type\" => '.'), (14, 6) => Dict(\"next\" => Dict((20, 14) => 38, (14, 14) => 12, (6, 4) => 22), \"type\" => '.'))"
   ]
  },
  {
   "cell_type": "code",
   "execution_count": 11,
   "id": "69c42551-2587-4c5e-bff5-bced5e1b21bc",
   "metadata": {},
   "outputs": [
    {
     "data": {
      "text/plain": [
       "154"
      ]
     },
     "execution_count": 11,
     "metadata": {},
     "output_type": "execute_result"
    }
   ],
   "source": [
    "find_path(full_test, [], (1,2), (23,22))"
   ]
  },
  {
   "cell_type": "code",
   "execution_count": null,
   "id": "f4895c61-9cf8-4797-a785-d46d9c41ec6b",
   "metadata": {},
   "outputs": [],
   "source": []
  },
  {
   "cell_type": "code",
   "execution_count": 12,
   "id": "06d34706-f42f-4bac-8030-1ce13f4fc794",
   "metadata": {},
   "outputs": [
    {
     "data": {
      "text/plain": [
       "Dict{Tuple{Int64, Int64}, Dict{String, Any}} with 36 entries:\n",
       "  (6, 88)    => Dict(\"next\"=>Dict((36, 88)=>182, (20, 62)=>228, (12, 106)=>96),…\n",
       "  (1, 2)     => Dict(\"next\"=>Dict((20, 20)=>165), \"type\"=>'.')\n",
       "  (90, 6)    => Dict(\"next\"=>Dict((66, 18)=>164, (82, 36)=>194, (106, 10)=>104)…\n",
       "  (54, 36)   => Dict(\"next\"=>Dict((66, 18)=>98, (82, 36)=>156, (62, 66)=>214, (…\n",
       "  (110, 34)  => Dict(\"next\"=>Dict((104, 62)=>146, (82, 36)=>178, (138, 34)=>172…\n",
       "  (132, 114) => Dict(\"next\"=>Dict((134, 136)=>160, (106, 108)=>148, (134, 84)=>…\n",
       "  (6, 30)    => Dict(\"next\"=>Dict((20, 62)=>258, (20, 20)=>112, (32, 38)=>126),…\n",
       "  (36, 88)   => Dict(\"next\"=>Dict((6, 88)=>182, (64, 82)=>182, (42, 60)=>154, (…\n",
       "  (132, 56)  => Dict(\"next\"=>Dict((104, 62)=>202, (138, 34)=>112, (134, 84)=>19…\n",
       "  (44, 124)  => Dict(\"next\"=>Dict((58, 132)=>122, (38, 100)=>122, (12, 106)=>61…\n",
       "  (20, 20)   => Dict(\"next\"=>Dict((1, 2)=>165, (6, 30)=>112, (40, 14)=>170), \"t…\n",
       "  (62, 66)   => Dict(\"next\"=>Dict((84, 68)=>92, (54, 36)=>214, (42, 60)=>90, (6…\n",
       "  (38, 100)  => Dict(\"next\"=>Dict((36, 88)=>50, (54, 112)=>76, (44, 124)=>122, …\n",
       "  (106, 10)  => Dict(\"next\"=>Dict((90, 6)=>104, (110, 34)=>140, (138, 34)=>380)…\n",
       "  (80, 106)  => Dict(\"next\"=>Dict((80, 138)=>212, (54, 112)=>144, (106, 108)=>1…\n",
       "  (80, 138)  => Dict(\"next\"=>Dict((58, 132)=>132, (80, 106)=>212, (100, 136)=>9…\n",
       "  (100, 136) => Dict(\"next\"=>Dict((80, 138)=>98, (134, 136)=>182, (106, 108)=>1…\n",
       "  (134, 136) => Dict(\"next\"=>Dict((141, 140)=>23, (132, 114)=>160, (100, 136)=>…\n",
       "  (104, 62)  => Dict(\"next\"=>Dict((84, 68)=>106, (110, 88)=>188, (110, 34)=>146…\n",
       "  (66, 18)   => Dict(\"next\"=>Dict((90, 6)=>164, (54, 36)=>98, (40, 14)=>266), \"…\n",
       "  (138, 34)  => Dict(\"next\"=>Dict((110, 34)=>172, (132, 56)=>112, (106, 10)=>38…\n",
       "  (58, 132)  => Dict(\"next\"=>Dict((80, 138)=>132, (44, 124)=>122, (54, 112)=>96…\n",
       "  (64, 82)   => Dict(\"next\"=>Dict((36, 88)=>182, (54, 112)=>144, (62, 66)=>70, …\n",
       "  (141, 140) => Dict(\"next\"=>Dict((134, 136)=>23), \"type\"=>'.')\n",
       "  (20, 62)   => Dict(\"next\"=>Dict((6, 88)=>228, (42, 60)=>100, (6, 30)=>258), \"…\n",
       "  ⋮          => ⋮"
      ]
     },
     "execution_count": 12,
     "metadata": {},
     "output_type": "execute_result"
    }
   ],
   "source": [
    "true_test = Dict((64, 82) => Dict(\"next\" => Dict((36, 88) => 182, (54, 112) => 144, (62, 66) => 70, (88, 80) => 90), \"type\" => '.'), (88, 80) => Dict(\"next\" => Dict((84, 68) => 40, (110, 88) => 142, (80, 106) => 174, (64, 82) => 90), \"type\" => '.'), (12, 106) => Dict(\"next\" => Dict((6, 88) => 96, (44, 124) => 610, (38, 100) => 156), \"type\" => '.'), (1, 2) => Dict(\"next\" => Dict((20, 20) => 165), \"type\" => '.'), (141, 140) => Dict(\"next\" => Dict((134, 136) => 23), \"type\" => '.'), (100, 136) => Dict(\"next\" => Dict((80, 138) => 98, (134, 136) => 182, (106, 108) => 182), \"type\" => '.'), (80, 106) => Dict(\"next\" => Dict((80, 138) => 212, (54, 112) => 144, (106, 108) => 148, (88, 80) => 174), \"type\" => '.'), (106, 10) => Dict(\"next\" => Dict((90, 6) => 104, (110, 34) => 140, (138, 34) => 380), \"type\" => '.'), (132, 56) => Dict(\"next\" => Dict((104, 62) => 202, (138, 34) => 112, (134, 84) => 190), \"type\" => '.'), (106, 108) => Dict(\"next\" => Dict((110, 88) => 120, (80, 106) => 148, (132, 114) => 148, (100, 136) => 182), \"type\" => '.'), (104, 62) => Dict(\"next\" => Dict((84, 68) => 106, (110, 88) => 188, (110, 34) => 146, (132, 56) => 202), \"type\" => '.'), (58, 132) => Dict(\"next\" => Dict((80, 138) => 132, (44, 124) => 122, (54, 112) => 96), \"type\" => '.'), (44, 124) => Dict(\"next\" => Dict((58, 132) => 122, (38, 100) => 122, (12, 106) => 610), \"type\" => '.'), (134, 136) => Dict(\"next\" => Dict((141, 140) => 23, (132, 114) => 160, (100, 136) => 182), \"type\" => '.'), (54, 36) => Dict(\"next\" => Dict((66, 18) => 98, (82, 36) => 156, (62, 66) => 214, (32, 38) => 128), \"type\" => '.'), (40, 14) => Dict(\"next\" => Dict((66, 18) => 266, (20, 20) => 170, (32, 38) => 112), \"type\" => '.'), (132, 114) => Dict(\"next\" => Dict((134, 136) => 160, (106, 108) => 148, (134, 84) => 248), \"type\" => '.'), (6, 88) => Dict(\"next\" => Dict((36, 88) => 182, (20, 62) => 228, (12, 106) => 96), \"type\" => '.'), (84, 68) => Dict(\"next\" => Dict((104, 62) => 106, (82, 36) => 210, (62, 66) => 92, (88, 80) => 40), \"type\" => '.'), (20, 62) => Dict(\"next\" => Dict((6, 88) => 228, (42, 60) => 100, (6, 30) => 258), \"type\" => '.'), (6, 30) => Dict(\"next\" => Dict((20, 62) => 258, (20, 20) => 112, (32, 38) => 126), \"type\" => '.'), (66, 18) => Dict(\"next\" => Dict((90, 6) => 164, (54, 36) => 98, (40, 14) => 266), \"type\" => '.'), (80, 138) => Dict(\"next\" => Dict((58, 132) => 132, (80, 106) => 212, (100, 136) => 98), \"type\" => '.'), (134, 84) => Dict(\"next\" => Dict((110, 88) => 156, (132, 114) => 248, (132, 56) => 190), \"type\" => '.'), (62, 66) => Dict(\"next\" => Dict((84, 68) => 92, (54, 36) => 214, (42, 60) => 90, (64, 82) => 70), \"type\" => '.'), (38, 100) => Dict(\"next\" => Dict((36, 88) => 50, (54, 112) => 76, (44, 124) => 122, (12, 106) => 156), \"type\" => '.'), (90, 6) => Dict(\"next\" => Dict((66, 18) => 164, (82, 36) => 194, (106, 10) => 104), \"type\" => '.'), (32, 38) => Dict(\"next\" => Dict((54, 36) => 128, (42, 60) => 136, (6, 30) => 126, (40, 14) => 112), \"type\" => '.'), (20, 20) => Dict(\"next\" => Dict((1, 2) => 165, (6, 30) => 112, (40, 14) => 170), \"type\" => '.'), (42, 60) => Dict(\"next\" => Dict((36, 88) => 154, (20, 62) => 100, (62, 66) => 90, (32, 38) => 136), \"type\" => '.'), (110, 34) => Dict(\"next\" => Dict((104, 62) => 146, (82, 36) => 178, (138, 34) => 172, (106, 10) => 140), \"type\" => '.'), (36, 88) => Dict(\"next\" => Dict((6, 88) => 182, (64, 82) => 182, (42, 60) => 154, (38, 100) => 50), \"type\" => '.'), (110, 88) => Dict(\"next\" => Dict((106, 108) => 120, (104, 62) => 188, (134, 84) => 156, (88, 80) => 142), \"type\" => '.'), (54, 112) => Dict(\"next\" => Dict((58, 132) => 96, (80, 106) => 144, (64, 82) => 144, (38, 100) => 76), \"type\" => '.'), (138, 34) => Dict(\"next\" => Dict((110, 34) => 172, (132, 56) => 112, (106, 10) => 380), \"type\" => '.'), (82, 36) => Dict(\"next\" => Dict((84, 68) => 210, (90, 6) => 194, (54, 36) => 156, (110, 34) => 178), \"type\" => '.'))"
   ]
  },
  {
   "cell_type": "code",
   "execution_count": 13,
   "id": "329bd7b0-ade6-4089-9a74-66b2b1f37b42",
   "metadata": {},
   "outputs": [
    {
     "data": {
      "text/plain": [
       "154"
      ]
     },
     "execution_count": 13,
     "metadata": {},
     "output_type": "execute_result"
    }
   ],
   "source": [
    "find_path2(full_test)"
   ]
  },
  {
   "cell_type": "code",
   "execution_count": 14,
   "id": "3b7fd16d-eb51-4b16-bd71-ff0b3dc1f77e",
   "metadata": {},
   "outputs": [
    {
     "data": {
      "text/plain": [
       "6350"
      ]
     },
     "execution_count": 14,
     "metadata": {},
     "output_type": "execute_result"
    }
   ],
   "source": [
    "find_path2(true_test, [(1,2)], (1,2), (141,140))"
   ]
  },
  {
   "cell_type": "code",
   "execution_count": null,
   "id": "1cc323c6-6db9-431e-ae6c-b8a1614d95f3",
   "metadata": {},
   "outputs": [],
   "source": []
  }
 ],
 "metadata": {
  "kernelspec": {
   "display_name": "Julia 1.9.4",
   "language": "julia",
   "name": "julia-1.9"
  },
  "language_info": {
   "file_extension": ".jl",
   "mimetype": "application/julia",
   "name": "julia",
   "version": "1.9.4"
  }
 },
 "nbformat": 4,
 "nbformat_minor": 5
}
