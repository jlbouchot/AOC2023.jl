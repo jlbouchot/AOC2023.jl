{
 "cells": [
  {
   "cell_type": "code",
   "execution_count": 3,
   "id": "9f1678ce-8ed1-46e9-ba10-474084db6826",
   "metadata": {},
   "outputs": [
    {
     "data": {
      "text/plain": [
       "is_parallel (generic function with 1 method)"
      ]
     },
     "execution_count": 3,
     "metadata": {},
     "output_type": "execute_result"
    }
   ],
   "source": [
    "function is_parallel(speed1, speed2)\n",
    "    return speed1[1]*speed2[2] == speed1[2]*speed2[1]\n",
    "end"
   ]
  },
  {
   "cell_type": "code",
   "execution_count": 4,
   "id": "dea69ddb-bb1e-43c1-b00a-e2b88d21f346",
   "metadata": {},
   "outputs": [
    {
     "data": {
      "text/plain": [
       "true"
      ]
     },
     "execution_count": 4,
     "metadata": {},
     "output_type": "execute_result"
    }
   ],
   "source": [
    "is_parallel([-1, -1, -2], [-2, -2, -4])"
   ]
  },
  {
   "cell_type": "code",
   "execution_count": 1,
   "id": "88146850-850b-4cda-b0fa-1fe4bea3a086",
   "metadata": {},
   "outputs": [
    {
     "data": {
      "text/plain": [
       "parse_line (generic function with 1 method)"
      ]
     },
     "execution_count": 1,
     "metadata": {},
     "output_type": "execute_result"
    }
   ],
   "source": [
    "function parse_line(a_line)\n",
    "    values = split(a_line, \" @ \")\n",
    "    positions = [parse(Int, v) for v in split(values[1], \", \")]\n",
    "    speeds = [parse(Int, v) for v in split(values[2], \", \")]\n",
    "    return (positions, speeds)\n",
    "end"
   ]
  },
  {
   "cell_type": "code",
   "execution_count": 2,
   "id": "eea9d241-e08c-429a-b924-d4fc7fa76947",
   "metadata": {},
   "outputs": [
    {
     "data": {
      "text/plain": [
       "([20, 19, 15], [1, -5, -3])"
      ]
     },
     "execution_count": 2,
     "metadata": {},
     "output_type": "execute_result"
    }
   ],
   "source": [
    "parse_line(\"20, 19, 15 @  1, -5, -3\")"
   ]
  },
  {
   "cell_type": "code",
   "execution_count": 46,
   "id": "6c361993-3f89-4c2c-af7d-578cc4f37f48",
   "metadata": {},
   "outputs": [
    {
     "data": {
      "text/plain": [
       "check_range (generic function with 1 method)"
      ]
     },
     "execution_count": 46,
     "metadata": {},
     "output_type": "execute_result"
    }
   ],
   "source": [
    "function check_range(ray1, ray2, min_v, max_v)\n",
    "    p1 = ray1[1]\n",
    "    p2 = ray2[1]\n",
    "    s1 = ray1[2]\n",
    "    s2 = ray2[2] \n",
    "    r1 = s1[2] / s1[1]\n",
    "    r2 = s2[2] / s2[1]\n",
    "    # println(\"Ray 1 is $ray1 and Ray 2 is $ray2\")\n",
    "    x_star = (p2[2]-p1[2] + r1*p1[1] - r2*p2[1]) / (r1 - r2)\n",
    "    # println(\"x star is $x_star\")\n",
    "    if (x_star < min_v) || (x_star > max_v) || (x_star*s1[1] < p1[1]*s1[1]) || (x_star*s2[1] < p2[1]*s2[1])\n",
    "        return false\n",
    "    else\n",
    "        y_star = r1*(x_star - p1[1]) + p1[2]\n",
    "        # println(\"y star is $y_star\")\n",
    "        if (y_star < min_v) || (y_star > max_v)\n",
    "            return false\n",
    "        else \n",
    "            # println(\"Yes indeed!\")\n",
    "            return true\n",
    "        end\n",
    "    end\n",
    "    \n",
    "end"
   ]
  },
  {
   "cell_type": "code",
   "execution_count": 47,
   "id": "a2790121-a135-4721-a98f-62e61e772804",
   "metadata": {},
   "outputs": [
    {
     "data": {
      "text/plain": [
       "false"
      ]
     },
     "execution_count": 47,
     "metadata": {},
     "output_type": "execute_result"
    }
   ],
   "source": [
    "check_range(parse_line(\"18, 19, 22 @ -1, -1, -2\"), parse_line(\"12, 31, 28 @ -1, -2, -1\"), 7, 27)"
   ]
  },
  {
   "cell_type": "code",
   "execution_count": 48,
   "id": "45aaeb9c-f816-48e2-8502-d4ebc85cc337",
   "metadata": {},
   "outputs": [
    {
     "data": {
      "text/plain": [
       "true"
      ]
     },
     "execution_count": 48,
     "metadata": {},
     "output_type": "execute_result"
    }
   ],
   "source": [
    "check_range(parse_line(\"19, 13, 30 @ -2, 1, -2\"), parse_line(\"18, 19, 22 @ -1, -1, -2\"), 7, 27)"
   ]
  },
  {
   "cell_type": "code",
   "execution_count": 50,
   "id": "2450ffa6-9720-475f-aecc-c3dc7baa2fd6",
   "metadata": {},
   "outputs": [
    {
     "data": {
      "text/plain": [
       "26657"
      ]
     },
     "execution_count": 50,
     "metadata": {},
     "output_type": "execute_result"
    }
   ],
   "source": [
    "nb_intersect = open(\"24_1.txt\") do f\n",
    "    nb_i = 0\n",
    "\n",
    "    rays = []\n",
    "    min_v = 200000000000000\n",
    "    max_v = 400000000000000\n",
    "\n",
    "    for l in eachline(f)\n",
    "        push!(rays, parse_line(l))\n",
    "    end\n",
    "\n",
    "    for (idx,r1) in enumerate(rays)\n",
    "        for r2 in rays[idx+1:end]\n",
    "            if !is_parallel(r1[2], r2[2])\n",
    "                nb_i = check_range(r1, r2, min_v, max_v) ? nb_i+1 : nb_i\n",
    "            end\n",
    "        end\n",
    "    end\n",
    "\n",
    "    (nb_i)\n",
    "    \n",
    "    \n",
    "end"
   ]
  },
  {
   "cell_type": "code",
   "execution_count": null,
   "id": "5cca543f-4315-4208-95fb-0fb36f532abe",
   "metadata": {},
   "outputs": [],
   "source": []
  },
  {
   "cell_type": "code",
   "execution_count": 61,
   "id": "4cbb5610-7dc7-41c9-ab30-ffa72f711b3a",
   "metadata": {},
   "outputs": [
    {
     "name": "stdout",
     "output_type": "stream",
     "text": [
      "P1 is [313743533208081, 328167831228390, 159732064722764], s1 is [51, 115, 83]\n",
      "P2 is [468183773350185, 269960480220160, 439515864552130], s2 is [-243, -42, -12]\n",
      "P3 is [317004666243105, 378324701560288, 371293866971580], s3 is [-85, -156, -21]\n"
     ]
    },
    {
     "data": {
      "text/plain": [
       "6×6 Matrix{Float64}:\n",
       " 157.0  -294.0     0.0  -5.82074e13  -1.5444e14    0.0\n",
       " 114.0   158.0     0.0   1.08364e14   1.51179e14   0.0\n",
       "  95.0     0.0  -294.0   2.79784e14   0.0         -1.5444e14\n",
       "   9.0     0.0   158.0  -6.8222e13    0.0          1.51179e14\n",
       "   0.0    95.0  -157.0   0.0          2.79784e14   5.82074e13\n",
       "   0.0     9.0  -114.0   0.0         -6.8222e13   -1.08364e14"
      ]
     },
     "metadata": {},
     "output_type": "display_data"
    },
    {
     "data": {
      "text/plain": [
       "6×1 Matrix{Float64}:\n",
       "  2.6592731286509684e16\n",
       " -6.323180651409101e16\n",
       "  8.328977185055562e16\n",
       " -7.628126910448627e16\n",
       "  6.35139799970903e15\n",
       "  3.4756883966252892e16"
      ]
     },
     "metadata": {},
     "output_type": "display_data"
    },
    {
     "name": "stdout",
     "output_type": "stream",
     "text": [
      "[3.3584999088405506e14; 3.6249462886189006e14; 1.3007371156741992e14; -109.99999999999999; -135.0000000000001; 299.00000000000017;;]\n"
     ]
    },
    {
     "data": {
      "text/plain": [
       "8.28418331313365e14"
      ]
     },
     "execution_count": 61,
     "metadata": {},
     "output_type": "execute_result"
    }
   ],
   "source": [
    "sum_position = open(\"24_1.txt\") do f\n",
    "    X = 1\n",
    "    Y = 2\n",
    "    Z = 3\n",
    "\n",
    "    rays = []\n",
    "    min_v = 200000000000000\n",
    "    max_v = 400000000000000\n",
    "\n",
    "    for l in eachline(f)\n",
    "        push!(rays, parse_line(l))\n",
    "    end\n",
    "\n",
    "    # Select 3 random equations to set up the problem\n",
    "    ids = [1, 2, 5]\n",
    "\n",
    "    (p1, s1) = rays[ids[1]]\n",
    "    (p2, s2) = rays[ids[2]]\n",
    "    (p3, s3) = rays[ids[3]]\n",
    "    println(\"P1 is $p1, s1 is $s1\")\n",
    "    println(\"P2 is $p2, s2 is $s2\")\n",
    "    println(\"P3 is $p3, s3 is $s3\")\n",
    "\n",
    "    A_mat = zeros(6,6)\n",
    "    A_mat[1,1] = s1[Y] - s2[Y]\n",
    "    A_mat[1,2] = s2[X] - s1[X]\n",
    "    A_mat[1,4] = p2[Y] - p1[Y]\n",
    "    A_mat[1,5] = p1[X] - p2[X]\n",
    "\n",
    "    A_mat[2,1] = s2[Y] - s3[Y]\n",
    "    A_mat[2,2] = s3[X] - s2[X]\n",
    "    A_mat[2,4] = p3[Y] - p2[Y]\n",
    "    A_mat[2,5] = p2[X] - p3[X]\n",
    "\n",
    "    A_mat[3,1] = s1[Z] - s2[Z]\n",
    "    A_mat[3,3] = s2[X] - s1[X]\n",
    "    A_mat[3,4] = p2[Z] - p1[Z]\n",
    "    A_mat[3,6] = p1[X] - p2[X]\n",
    "\n",
    "    A_mat[4,1] = s2[Z] - s3[Z]\n",
    "    A_mat[4,3] = s3[X] - s2[X]\n",
    "    A_mat[4,4] = p3[Z] - p2[Z]\n",
    "    A_mat[4,6] = p2[X] - p3[X]\n",
    "\n",
    "    A_mat[5,2] = s1[Z] - s2[Z]\n",
    "    A_mat[5,3] = s2[Y] - s1[Y]\n",
    "    A_mat[5,5] = p2[Z] - p1[Z]\n",
    "    A_mat[5,6] = p1[Y] - p2[Y]\n",
    "\n",
    "    A_mat[6,2] = s2[Z] - s3[Z]\n",
    "    A_mat[6,3] = s3[Y] - s2[Y]\n",
    "    A_mat[6,5] = p3[Z] - p2[Z]\n",
    "    A_mat[6,6] = p2[Y] - p3[Y]\n",
    "\n",
    "    b_vec = zeros(6,1)\n",
    "    b_vec[1] = p2[X]*s2[Y] - p1[X]*s1[Y] + p1[Y]*s1[X] - p2[Y]*s2[X]\n",
    "    b_vec[2] = p3[X]*s3[Y] - p2[X]*s2[Y] + p2[Y]*s2[X] - p3[Y]*s3[X]\n",
    "    b_vec[3] = p2[X]*s2[Z] - p1[X]*s1[Z] + p1[Z]*s1[X] - p2[Z]*s2[X]\n",
    "    b_vec[4] = p3[X]*s3[Z] - p2[X]*s2[Z] + p2[Z]*s2[X] - p3[Z]*s3[X]\n",
    "    b_vec[5] = -(p2[Z]*s2[Y] - p1[Z]*s1[Y] + p1[Y]*s1[Z] - p2[Y]*s2[Z])\n",
    "    b_vec[6] = -(p3[Z]*s3[Y] - p2[Z]*s2[Y] + p2[Y]*s2[Z] - p3[Y]*s3[Z])\n",
    "\n",
    "    display(A_mat)\n",
    "    display(b_vec)\n",
    "\n",
    "    x = A_mat \\ (-b_vec)\n",
    "\n",
    "    println(x)\n",
    "    \n",
    "    \n",
    "    \n",
    "\n",
    "    (x[1] + x[2]+ x[3])\n",
    "    \n",
    "    \n",
    "end"
   ]
  },
  {
   "cell_type": "code",
   "execution_count": 52,
   "id": "6908e19b-37c7-432c-847f-b0cbdfb3c87d",
   "metadata": {},
   "outputs": [
    {
     "data": {
      "text/plain": [
       "6×6 Matrix{Float64}:\n",
       " 0.0  0.0  0.0  0.0  0.0  0.0\n",
       " 0.0  0.0  0.0  0.0  0.0  0.0\n",
       " 0.0  0.0  0.0  0.0  0.0  0.0\n",
       " 0.0  0.0  0.0  0.0  0.0  0.0\n",
       " 0.0  0.0  0.0  0.0  0.0  0.0\n",
       " 0.0  0.0  0.0  0.0  0.0  0.0"
      ]
     },
     "execution_count": 52,
     "metadata": {},
     "output_type": "execute_result"
    }
   ],
   "source": [
    "zeros(6,6)"
   ]
  },
  {
   "cell_type": "code",
   "execution_count": null,
   "id": "d34b5acd-3934-4b27-bb50-32b9030fa00d",
   "metadata": {},
   "outputs": [],
   "source": []
  }
 ],
 "metadata": {
  "kernelspec": {
   "display_name": "Julia 1.9.4",
   "language": "julia",
   "name": "julia-1.9"
  },
  "language_info": {
   "file_extension": ".jl",
   "mimetype": "application/julia",
   "name": "julia",
   "version": "1.9.4"
  }
 },
 "nbformat": 4,
 "nbformat_minor": 5
}
