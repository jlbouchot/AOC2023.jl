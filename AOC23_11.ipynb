{
 "cells": [
  {
   "cell_type": "code",
   "execution_count": 25,
   "id": "aac647ab-cdd9-49a4-a3c2-a2bcf553a9f7",
   "metadata": {},
   "outputs": [
    {
     "data": {
      "text/plain": [
       "9563821"
      ]
     },
     "execution_count": 25,
     "metadata": {},
     "output_type": "execute_result"
    }
   ],
   "source": [
    "sum_of_path = open(\"11_1.txt\") do f\n",
    "    tot_sum = 0\n",
    "\n",
    "    sky_map = []\n",
    "    nb_empty_rows = 0\n",
    "    locations = []\n",
    "    for (idx, l) in enumerate(eachline(f))\n",
    "        push!(sky_map, collect(l))\n",
    "        current_row_loc = findall(collect(l).=='#')\n",
    "        if length(current_row_loc) == 0\n",
    "            nb_empty_rows += 1\n",
    "        else\n",
    "            for i in current_row_loc\n",
    "                push!(locations, [idx+nb_empty_rows, i])\n",
    "            end\n",
    "        end\n",
    "    end\n",
    "\n",
    "    nb_rows = length(sky_map)\n",
    "    nb_cols = length(sky_map[1])\n",
    "\n",
    "    empty_cols = []\n",
    "    for i in range(1, nb_cols)\n",
    "        if all([sky_map[r][i] for r in range(1, nb_rows)] .== '.')\n",
    "            push!(empty_cols, i)\n",
    "        end\n",
    "    end\n",
    "\n",
    "    for (idx, a_galaxy) in enumerate(locations)\n",
    "        locations[idx][2] = locations[idx][2]+length(findall(a_galaxy[2] .> empty_cols))\n",
    "    end\n",
    "\n",
    "    for (idx, a_galaxy) in enumerate(locations[1:end-1])\n",
    "        for another_galaxy in locations[idx+1:end]\n",
    "            tot_sum += abs(another_galaxy[1]-a_galaxy[1]) + abs(another_galaxy[2] - a_galaxy[2])\n",
    "        end\n",
    "    end\n",
    "    \n",
    "    \n",
    "    (tot_sum)\n",
    "\n",
    "end"
   ]
  },
  {
   "cell_type": "code",
   "execution_count": 29,
   "id": "d78afaf7-a4d9-4e9b-a9f3-91928fc45723",
   "metadata": {},
   "outputs": [
    {
     "data": {
      "text/plain": [
       "827009909817"
      ]
     },
     "execution_count": 29,
     "metadata": {},
     "output_type": "execute_result"
    }
   ],
   "source": [
    "sum_of_path = open(\"11_1.txt\") do f\n",
    "    tot_sum = 0\n",
    "    d_apart = 1000000\n",
    "\n",
    "    sky_map = []\n",
    "    nb_empty_rows = 0\n",
    "    locations = []\n",
    "    for (idx, l) in enumerate(eachline(f))\n",
    "        push!(sky_map, collect(l))\n",
    "        current_row_loc = findall(collect(l).=='#')\n",
    "        if length(current_row_loc) == 0\n",
    "            nb_empty_rows += 1\n",
    "        else\n",
    "            for i in current_row_loc\n",
    "                push!(locations, [idx+(d_apart-1)*nb_empty_rows, i])\n",
    "            end\n",
    "        end\n",
    "    end\n",
    "\n",
    "    nb_rows = length(sky_map)\n",
    "    nb_cols = length(sky_map[1])\n",
    "\n",
    "    empty_cols = []\n",
    "    for i in range(1, nb_cols)\n",
    "        if all([sky_map[r][i] for r in range(1, nb_rows)] .== '.')\n",
    "            push!(empty_cols, i)\n",
    "        end\n",
    "    end\n",
    "\n",
    "    for (idx, a_galaxy) in enumerate(locations)\n",
    "        locations[idx][2] = locations[idx][2]+(d_apart-1)*length(findall(a_galaxy[2] .> empty_cols))\n",
    "    end\n",
    "\n",
    "    for (idx, a_galaxy) in enumerate(locations[1:end-1])\n",
    "        for another_galaxy in locations[idx+1:end]\n",
    "            tot_sum += abs(another_galaxy[1]-a_galaxy[1]) + abs(another_galaxy[2] - a_galaxy[2])\n",
    "        end\n",
    "    end\n",
    "    \n",
    "    \n",
    "    (tot_sum)\n",
    "\n",
    "end"
   ]
  },
  {
   "cell_type": "code",
   "execution_count": null,
   "id": "37b5ab79-0f8c-4b80-ad15-eb2f2ef983e7",
   "metadata": {},
   "outputs": [],
   "source": []
  }
 ],
 "metadata": {
  "kernelspec": {
   "display_name": "Julia 1.9.4",
   "language": "julia",
   "name": "julia-1.9"
  },
  "language_info": {
   "file_extension": ".jl",
   "mimetype": "application/julia",
   "name": "julia",
   "version": "1.9.4"
  }
 },
 "nbformat": 4,
 "nbformat_minor": 5
}
