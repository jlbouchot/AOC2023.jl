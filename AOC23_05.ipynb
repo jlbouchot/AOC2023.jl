{
 "cells": [
  {
   "cell_type": "code",
   "execution_count": 1,
   "id": "a1c292c4-cfc7-42f5-af40-cac358ff6abe",
   "metadata": {},
   "outputs": [
    {
     "data": {
      "text/plain": [
       "Int64[]"
      ]
     },
     "execution_count": 1,
     "metadata": {},
     "output_type": "execute_result"
    }
   ],
   "source": [
    "all_dicts_keys = [\"seed-to-soil\", \"soil-to-fertilizer\", \"fertilizer-to-water\", \"water-to-light\", \"light-to-temperature\", \"temperature-to-humidity\", \"humidity-to-location\"]\n",
    "all_dicts = Dict()\n",
    "for a_map_name in all_dicts_keys\n",
    "    all_dicts[a_map_name] = Dict()\n",
    "end\n",
    "const seed_nb = Vector{Int}()"
   ]
  },
  {
   "cell_type": "code",
   "execution_count": 2,
   "id": "d04d17a2-db49-4482-bb75-3e39b48784f3",
   "metadata": {},
   "outputs": [],
   "source": [
    "open(\"05_test.txt\") do f\n",
    "    min_l = 0\n",
    "    # Read the seed numbers first \n",
    "    l = readline(f)\n",
    "    seed_nb_vals = parse.(Int, split(l, ' ')[2:end])\n",
    "    for a_val in seed_nb_vals\n",
    "        push!(seed_nb, a_val)\n",
    "    end\n",
    "    readline(f)\n",
    "    while !eof(f)\n",
    "        l = readline(f)\n",
    "        mapping_name = split(l, \" map\")[1]\n",
    "        all_dicts[mapping_name][\"destination_start\"] = Vector{Int}()\n",
    "        all_dicts[mapping_name][\"source_start\"] = Vector{Int}()\n",
    "        all_dicts[mapping_name][\"range\"] = Vector{Int}()\n",
    "            \n",
    "        l = readline(f)\n",
    "        while l != \"\"\n",
    "            # Add a mapping\n",
    "            values = split(l, ' ')\n",
    "            push!(all_dicts[mapping_name][\"destination_start\"], parse(Int, values[1]))\n",
    "            push!(all_dicts[mapping_name][\"source_start\"], parse(Int, values[2]))\n",
    "            push!(all_dicts[mapping_name][\"range\"], parse(Int, values[3]))\n",
    "            l = readline(f)\n",
    "        end\n",
    "    end\n",
    "end\n"
   ]
  },
  {
   "cell_type": "code",
   "execution_count": 9,
   "id": "72ec53f2-22ae-4b6a-82c0-47b3902eba32",
   "metadata": {},
   "outputs": [
    {
     "name": "stdout",
     "output_type": "stream",
     "text": [
      "111627841\n"
     ]
    }
   ],
   "source": [
    "min_l = 1000000000\n",
    "for i in seed_nb\n",
    "    cur_val = i\n",
    "    for a_mapping in all_dicts_keys\n",
    "        new_val = cur_val\n",
    "        # println(\"Current mapping name is $a_mapping with dict \", all_dicts[a_mapping])\n",
    "        for (idx, a_map_range) in enumerate(all_dicts[a_mapping][\"source_start\"])\n",
    "            if (cur_val >= a_map_range) && (cur_val < a_map_range + all_dicts[a_mapping][\"range\"][idx])\n",
    "                new_val = all_dicts[a_mapping][\"destination_start\"][idx] + cur_val - a_map_range\n",
    "            end\n",
    "        end\n",
    "        # println(\"Old value is $cur_val while new value is $new_val\")\n",
    "        cur_val = new_val\n",
    "    end\n",
    "    min_l = min(min_l, cur_val)\n",
    "end\n",
    "println(min_l)"
   ]
  },
  {
   "cell_type": "code",
   "execution_count": null,
   "id": "2cc6a26e-1c8a-48c1-a408-3769c674fca1",
   "metadata": {},
   "outputs": [],
   "source": []
  },
  {
   "cell_type": "code",
   "execution_count": 4,
   "id": "8ff9a6fe-7549-4ff8-ae7b-2b84b48c80d8",
   "metadata": {},
   "outputs": [
    {
     "data": {
      "text/plain": [
       "Dict{Any, Any}()"
      ]
     },
     "execution_count": 4,
     "metadata": {},
     "output_type": "execute_result"
    }
   ],
   "source": [
    "a_dict = Dict()"
   ]
  },
  {
   "cell_type": "code",
   "execution_count": 5,
   "id": "2a195f0a-4339-4698-8746-28564a90d5a6",
   "metadata": {},
   "outputs": [
    {
     "data": {
      "text/plain": [
       "3"
      ]
     },
     "execution_count": 5,
     "metadata": {},
     "output_type": "execute_result"
    }
   ],
   "source": [
    "a_dict[45] = 2\n",
    "a_dict[42] = 3"
   ]
  },
  {
   "cell_type": "code",
   "execution_count": 6,
   "id": "94fcd897-93af-4b21-bde8-406190c497b2",
   "metadata": {},
   "outputs": [
    {
     "data": {
      "text/plain": [
       "false"
      ]
     },
     "execution_count": 6,
     "metadata": {},
     "output_type": "execute_result"
    }
   ],
   "source": [
    "haskey(a_dict, 43)"
   ]
  },
  {
   "cell_type": "code",
   "execution_count": 7,
   "id": "1c705e10-89d9-409d-9ebd-c95021aec67e",
   "metadata": {},
   "outputs": [
    {
     "data": {
      "text/plain": [
       "true"
      ]
     },
     "execution_count": 7,
     "metadata": {},
     "output_type": "execute_result"
    }
   ],
   "source": [
    "haskey(a_dict, 42)"
   ]
  },
  {
   "cell_type": "code",
   "execution_count": 8,
   "id": "d7eeebf4-6052-4382-a45a-e2cea1cfbb0c",
   "metadata": {},
   "outputs": [
    {
     "ename": "LoadError",
     "evalue": "MethodError: no method matching parse(::Type{Vector{Int64}}, ::Vector{String})",
     "output_type": "error",
     "traceback": [
      "MethodError: no method matching parse(::Type{Vector{Int64}}, ::Vector{String})",
      "",
      "Stacktrace:",
      " [1] top-level scope",
      "   @ In[8]:1"
     ]
    }
   ],
   "source": [
    "# parse(Vector{Int64}, [\"123\", \"345\"])"
   ]
  },
  {
   "cell_type": "code",
   "execution_count": null,
   "id": "f236066d-ac61-427d-a461-a2d1612512e2",
   "metadata": {},
   "outputs": [],
   "source": [
    "min_l = 1000000000\n",
    "length_seed_nb = length(seed_nb)\n",
    "println(convert(Int, length_seed_nb/2))\n",
    "\n",
    "for idx in range(1, convert(Int, length_seed_nb/2))\n",
    "    for i in range(seed_nb[2*idx-1], seed_nb[2*idx-1]+seed_nb[2*idx]-1)\n",
    "        cur_val = i\n",
    "        for a_mapping in all_dicts_keys\n",
    "            new_val = cur_val\n",
    "            # println(\"Current mapping name is $a_mapping with dict \", all_dicts[a_mapping])\n",
    "            for (idx, a_map_range) in enumerate(all_dicts[a_mapping][\"source_start\"])\n",
    "                if (cur_val >= a_map_range) && (cur_val < a_map_range + all_dicts[a_mapping][\"range\"][idx])\n",
    "                    new_val = all_dicts[a_mapping][\"destination_start\"][idx] + cur_val - a_map_range\n",
    "                end\n",
    "            end\n",
    "            # println(\"Old value is $cur_val while new value is $new_val\")\n",
    "            cur_val = new_val\n",
    "        end\n",
    "        min_l = min(min_l, cur_val)\n",
    "    end\n",
    "end\n",
    "println(min_l)"
   ]
  },
  {
   "cell_type": "code",
   "execution_count": 11,
   "id": "ad594085-8c07-4a5f-b233-a5b0abde72c4",
   "metadata": {},
   "outputs": [
    {
     "data": {
      "text/plain": [
       "0:3"
      ]
     },
     "execution_count": 11,
     "metadata": {},
     "output_type": "execute_result"
    }
   ],
   "source": [
    "x = range(0,3)"
   ]
  },
  {
   "cell_type": "code",
   "execution_count": 12,
   "id": "248eab35-5a1f-4b3e-92e9-f38f40c7875e",
   "metadata": {},
   "outputs": [
    {
     "name": "stdout",
     "output_type": "stream",
     "text": [
      "0\n",
      "1\n",
      "2\n",
      "3\n"
     ]
    }
   ],
   "source": [
    "for i in x\n",
    "    println(i)\n",
    "end"
   ]
  },
  {
   "cell_type": "code",
   "execution_count": 16,
   "id": "c8c8ef4f-9fc1-4aa9-a93c-c0e03b3fd917",
   "metadata": {},
   "outputs": [
    {
     "data": {
      "text/plain": [
       "20"
      ]
     },
     "execution_count": 16,
     "metadata": {},
     "output_type": "execute_result"
    }
   ],
   "source": [
    "length(seed_nb)"
   ]
  },
  {
   "cell_type": "code",
   "execution_count": null,
   "id": "23d10836-a785-46fd-ba7c-8e171d13452d",
   "metadata": {},
   "outputs": [],
   "source": []
  }
 ],
 "metadata": {
  "kernelspec": {
   "display_name": "Julia 1.9.4",
   "language": "julia",
   "name": "julia-1.9"
  },
  "language_info": {
   "file_extension": ".jl",
   "mimetype": "application/julia",
   "name": "julia",
   "version": "1.9.4"
  }
 },
 "nbformat": 4,
 "nbformat_minor": 5
}
