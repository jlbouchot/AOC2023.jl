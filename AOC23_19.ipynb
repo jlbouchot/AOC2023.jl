{
 "cells": [
  {
   "cell_type": "code",
   "execution_count": 46,
   "id": "5ae3a40d-bada-4abc-a272-313b6de83c3a",
   "metadata": {},
   "outputs": [
    {
     "data": {
      "text/plain": [
       "parse_values_parts (generic function with 1 method)"
      ]
     },
     "execution_count": 46,
     "metadata": {},
     "output_type": "execute_result"
    }
   ],
   "source": [
    "function parse_values_parts(part_in)\n",
    "    values = split(part_in, ',')\n",
    "    out = Dict('x' => parse(Int, split(values[1], '=')[2]), 'm' => parse(Int, split(values[2], '=')[2]), 'a' => parse(Int, split(values[3], '=')[2]), 's' => parse(Int, split(values[4], '=')[2]), 'n' => 0)\n",
    "    return out\n",
    "end"
   ]
  },
  {
   "cell_type": "code",
   "execution_count": 47,
   "id": "f1a98cc8-0281-42c8-9ee8-e72967d228b6",
   "metadata": {},
   "outputs": [
    {
     "data": {
      "text/plain": [
       "parse_conditions (generic function with 1 method)"
      ]
     },
     "execution_count": 47,
     "metadata": {},
     "output_type": "execute_result"
    }
   ],
   "source": [
    "function parse_conditions(sequence_wfl)\n",
    "    out_seq = []\n",
    "\n",
    "    for a_condition in split(sequence_wfl, ',')\n",
    "        el = split(a_condition, ':')\n",
    "        if length(el) == 1\n",
    "            # Default true condition\n",
    "            append!(out_seq, [['n', '>', -1, a_condition]])\n",
    "        else \n",
    "            append!(out_seq, [[el[1][1], el[1][2], parse(Int, el[1][3:end]), el[2]]])\n",
    "        end\n",
    "    end\n",
    "    return out_seq\n",
    "\n",
    "end"
   ]
  },
  {
   "cell_type": "code",
   "execution_count": 48,
   "id": "b94ba628-8172-4c3c-baa0-090956b14276",
   "metadata": {},
   "outputs": [
    {
     "data": {
      "text/plain": [
       "3-element Vector{Any}:\n",
       " Any['s', '<', 537, \"gd\"]\n",
       " Any['x', '>', 2440, \"R\"]\n",
       " Any['n', '>', -1, \"A\"]"
      ]
     },
     "execution_count": 48,
     "metadata": {},
     "output_type": "execute_result"
    }
   ],
   "source": [
    "parse_conditions(\"s<537:gd,x>2440:R,A\")"
   ]
  },
  {
   "cell_type": "code",
   "execution_count": 51,
   "id": "c17d05e8-93a0-4eee-81eb-f8ae748a832e",
   "metadata": {},
   "outputs": [
    {
     "data": {
      "text/plain": [
       "evaluate_conditions (generic function with 1 method)"
      ]
     },
     "execution_count": 51,
     "metadata": {},
     "output_type": "execute_result"
    }
   ],
   "source": [
    "function evaluate_conditions(part, wfl)\n",
    "    keep_going = true\n",
    "    current_condition_nb = 1\n",
    "    # println(wfl)\n",
    "    out = \"in\"\n",
    "    while keep_going\n",
    "        data_name, data_type, comp_value, out = wfl[current_condition_nb]\n",
    "        # println(wfl[current_condition_nb])\n",
    "        if data_type == '>'\n",
    "            keep_going = (part[data_name] < comp_value)\n",
    "        else\n",
    "            keep_going = (part[data_name] > comp_value)\n",
    "        end\n",
    "        current_condition_nb += 1\n",
    "        # println(keep_going)\n",
    "    end\n",
    "    out\n",
    "        \n",
    "end"
   ]
  },
  {
   "cell_type": "code",
   "execution_count": 54,
   "id": "46608e4e-4027-483e-93c6-af9e3541573a",
   "metadata": {},
   "outputs": [
    {
     "data": {
      "text/plain": [
       "434147"
      ]
     },
     "execution_count": 54,
     "metadata": {},
     "output_type": "execute_result"
    }
   ],
   "source": [
    "(xmas_sum) = open(\"19_1.txt\") do f\n",
    "    x_s = 0\n",
    "\n",
    "    parts = Dict()\n",
    "    rules = Dict()\n",
    "    sorting = Dict(\"A\" => [], \"R\" => [])\n",
    "\n",
    "    l = readline(f)\n",
    "    while (l != \"\")\n",
    "        values = split(l, ['{', '}'])\n",
    "        rules[values[1]] = parse_conditions(values[2])\n",
    "        l = readline(f)\n",
    "    end\n",
    "\n",
    "    # println(rules)\n",
    "\n",
    "    partnb = 1\n",
    "\n",
    "    for l in eachline(f) \n",
    "        parts[partnb] = parse_values_parts(split(l, ['{', '}'])[2])\n",
    "        wfl_name = \"in\"\n",
    "        while !(wfl_name in [\"A\", \"R\"])\n",
    "            wfl_name = evaluate_conditions(parts[partnb], rules[wfl_name])\n",
    "        end\n",
    "        append!(sorting[wfl_name], partnb)\n",
    "        partnb += 1\n",
    "    end\n",
    "\n",
    "    # println(parts)\n",
    "\n",
    "    for i in sorting[\"A\"]\n",
    "        x_s += parts[i]['x']\n",
    "        x_s += parts[i]['m']\n",
    "        x_s += parts[i]['a']\n",
    "        x_s += parts[i]['s']\n",
    "    end\n",
    "    \n",
    "    (x_s)\n",
    "end"
   ]
  },
  {
   "cell_type": "code",
   "execution_count": 11,
   "id": "7ba365e0-f861-4137-840a-ac6939b98da4",
   "metadata": {},
   "outputs": [
    {
     "data": {
      "text/plain": [
       "Any[]"
      ]
     },
     "execution_count": 11,
     "metadata": {},
     "output_type": "execute_result"
    }
   ],
   "source": [
    "blah = []"
   ]
  },
  {
   "cell_type": "code",
   "execution_count": 12,
   "id": "4f957b3f-9ba1-48b5-9e33-4a49887e48a8",
   "metadata": {},
   "outputs": [
    {
     "data": {
      "text/plain": [
       "1-element Vector{Any}:\n",
       " \"a_string\""
      ]
     },
     "execution_count": 12,
     "metadata": {},
     "output_type": "execute_result"
    }
   ],
   "source": [
    "append!(blah, [\"a_string\"])"
   ]
  },
  {
   "cell_type": "code",
   "execution_count": 13,
   "id": "3181743f-5282-4d32-81c2-d8f7c61c0bae",
   "metadata": {},
   "outputs": [
    {
     "data": {
      "text/plain": [
       "2-element Vector{Any}:\n",
       "    \"a_string\"\n",
       " 123"
      ]
     },
     "execution_count": 13,
     "metadata": {},
     "output_type": "execute_result"
    }
   ],
   "source": [
    "append!(blah, 123)"
   ]
  },
  {
   "cell_type": "code",
   "execution_count": 17,
   "id": "b92b5028-7553-4fa7-8f3a-2f4ede88c4bd",
   "metadata": {},
   "outputs": [
    {
     "data": {
      "text/plain": [
       "5-element Vector{Any}:\n",
       "    \"a_string\"\n",
       " 123\n",
       "   1\n",
       "   2\n",
       "   3"
      ]
     },
     "execution_count": 17,
     "metadata": {},
     "output_type": "execute_result"
    }
   ],
   "source": [
    "append!(blah, [1,2,3])"
   ]
  },
  {
   "cell_type": "code",
   "execution_count": 18,
   "id": "e1e3e9ba-d3d2-4d2c-b988-f7235a5758d1",
   "metadata": {},
   "outputs": [
    {
     "data": {
      "text/plain": [
       "6-element Vector{Any}:\n",
       "    \"a_string\"\n",
       " 123\n",
       "   1\n",
       "   2\n",
       "   3\n",
       "    [1, 2, 3]"
      ]
     },
     "execution_count": 18,
     "metadata": {},
     "output_type": "execute_result"
    }
   ],
   "source": [
    "append!(blah, [[1,2,3]])"
   ]
  },
  {
   "cell_type": "code",
   "execution_count": 72,
   "id": "d32d392a-377c-427a-866b-6de939e864af",
   "metadata": {},
   "outputs": [
    {
     "data": {
      "text/plain": [
       "136146366355609"
      ]
     },
     "execution_count": 72,
     "metadata": {},
     "output_type": "execute_result"
    }
   ],
   "source": [
    "(xmas_sum) = open(\"19_1.txt\") do f\n",
    "    x_s = 0\n",
    "\n",
    "    # parts = Dict()\n",
    "    rules = Dict()\n",
    "    sorting = Dict(\"A\" => [], \"R\" => [])\n",
    "\n",
    "    l = readline(f)\n",
    "    while (l != \"\")\n",
    "        values = split(l, ['{', '}'])\n",
    "        rules[values[1]] = parse_conditions(values[2])\n",
    "        l = readline(f)\n",
    "    end\n",
    "\n",
    "    all_ranges = [Dict(\"next\" => \"in\", 'x' => [1,4000], 'm' => [1,4000], 'a' => [1,4000], 's' => [1,4000])]\n",
    "\n",
    "    while length(all_ranges) > 0 \n",
    "        # println(\"Ranges are $all_ranges\")\n",
    "        current_range = pop!(all_ranges)\n",
    "        # println(\"And now they are $all_ranges\")\n",
    "        if current_range[\"next\"] == \"A\"\n",
    "            x_s += (current_range['x'][2]-current_range['x'][1]+1)*(current_range['m'][2]-current_range['m'][1]+1)*(current_range['a'][2]-current_range['a'][1]+1)*(current_range['s'][2]-current_range['s'][1]+1)\n",
    "            continue\n",
    "        elseif current_range[\"next\"] == \"R\"\n",
    "            continue\n",
    "        else\n",
    "            all_conditions = rules[current_range[\"next\"]]\n",
    "            #all_conditions = parse_conditions(current_rule)\n",
    "            for a_condition in all_conditions\n",
    "                # println(\"Updating ranges:  $all_ranges\")\n",
    "                (data_name, data_type, comp_value, next) = a_condition\n",
    "                # println(a_condition)\n",
    "                if data_name == 'n'\n",
    "                    current_range[\"next\"] = next\n",
    "                    push!(all_ranges, deepcopy(current_range))\n",
    "                elseif data_type == '<'\n",
    "                    if current_range[data_name][2] < comp_value\n",
    "                        # All data range is ok\n",
    "                        current_range[\"next\"] = next\n",
    "                        push!(all_ranges, current_range)\n",
    "                        continue\n",
    "                    elseif current_range[data_name][1] >= comp_value\n",
    "                        # Current condition is not verified\n",
    "                    else\n",
    "                        # Domain splitting case\n",
    "                        old_range = current_range[data_name]\n",
    "                        old_next = current_range[\"next\"]\n",
    "                        current_range[\"next\"] = next\n",
    "                        current_range[data_name] = [old_range[1], comp_value-1]\n",
    "                        push!(all_ranges, deepcopy(current_range))\n",
    "                        current_range[data_name] = [comp_value, old_range[2]]\n",
    "                        current_range[\"next\"] = old_next\n",
    "                    end\n",
    "                else\n",
    "                    if current_range[data_name][2] <= comp_value\n",
    "                        # Current condition is not verified\n",
    "                    elseif current_range[data_name][1] > comp_value\n",
    "                        # All data range is ok\n",
    "                        current_range[\"next\"] = next\n",
    "                        push!(all_ranges, current_range)\n",
    "                        continue\n",
    "                    else\n",
    "                        # Domain splitting case\n",
    "                        old_range = current_range[data_name]\n",
    "                        old_next = current_range[\"next\"]\n",
    "                        current_range[\"next\"] = next\n",
    "                        current_range[data_name] = [comp_value+1, old_range[2]]\n",
    "                        push!(all_ranges, deepcopy(current_range))\n",
    "                        current_range[data_name] = [old_range[1], comp_value]\n",
    "                        current_range[\"next\"] = old_next\n",
    "                    end\n",
    "                end\n",
    "            end \n",
    "        end\n",
    "    end\n",
    "    \n",
    "    (x_s)\n",
    "end"
   ]
  },
  {
   "cell_type": "code",
   "execution_count": null,
   "id": "65417161-a3bc-48f6-8b49-3030c668f000",
   "metadata": {},
   "outputs": [],
   "source": []
  }
 ],
 "metadata": {
  "kernelspec": {
   "display_name": "Julia 1.9.4",
   "language": "julia",
   "name": "julia-1.9"
  },
  "language_info": {
   "file_extension": ".jl",
   "mimetype": "application/julia",
   "name": "julia",
   "version": "1.9.4"
  }
 },
 "nbformat": 4,
 "nbformat_minor": 5
}
