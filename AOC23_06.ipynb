{
 "cells": [
  {
   "cell_type": "code",
   "execution_count": 7,
   "id": "373220be-0e81-43ee-b76a-c434c9cfbaf8",
   "metadata": {},
   "outputs": [
    {
     "data": {
      "text/plain": [
       "winning_range (generic function with 1 method)"
      ]
     },
     "execution_count": 7,
     "metadata": {},
     "output_type": "execute_result"
    }
   ],
   "source": [
    "function winning_range(tf, d0)\n",
    "    delta = sqrt(tf*tf -4*d0)\n",
    "    max_val = (tf + delta)/2\n",
    "    min_val = (tf - delta)/2\n",
    "    if floor(max_val) == max_val\n",
    "        max_val -= 1\n",
    "    else \n",
    "        max_val = floor(max_val)\n",
    "    end\n",
    "    if ceil(min_val) == min_val\n",
    "        min_val += 1\n",
    "    else \n",
    "        min_val = ceil(min_val)\n",
    "    end\n",
    "    \n",
    "    return max_val - min_val + 1\n",
    "end"
   ]
  },
  {
   "cell_type": "code",
   "execution_count": 8,
   "id": "be9505b6-3898-4916-818c-89a22707efa2",
   "metadata": {},
   "outputs": [
    {
     "data": {
      "text/plain": [
       "4.0"
      ]
     },
     "execution_count": 8,
     "metadata": {},
     "output_type": "execute_result"
    }
   ],
   "source": [
    "winning_range(7, 9)"
   ]
  },
  {
   "cell_type": "code",
   "execution_count": 12,
   "id": "938c0157-0f43-47e2-895a-b63140b81ac3",
   "metadata": {},
   "outputs": [
    {
     "name": "stdout",
     "output_type": "stream",
     "text": [
      "28.0\n",
      "45.0\n",
      "57.0\n",
      "67.0\n"
     ]
    },
    {
     "data": {
      "text/plain": [
       "4.81194e6"
      ]
     },
     "execution_count": 12,
     "metadata": {},
     "output_type": "execute_result"
    }
   ],
   "source": [
    "race_duration = Vector{Int}()\n",
    "race_record = Vector{Int}()\n",
    "\n",
    "tot_ways = open(\"06_1.txt\") do f\n",
    "    tot = 1\n",
    "    l = split(readline(f), \": \")[2]\n",
    "    for a_val in split(l, \" \")\n",
    "        if length(a_val) > 0\n",
    "            push!(race_duration, parse(Int, strip(a_val, ' ')))\n",
    "        end\n",
    "    end\n",
    "    l = split(readline(f), \": \")[2]\n",
    "    for a_val in split(l, \" \")\n",
    "        if length(a_val) > 0\n",
    "            push!(race_record, parse(Int, strip(a_val, ' ')))\n",
    "        end\n",
    "    end\n",
    "\n",
    "    for a_race in range(1, length(race_duration))\n",
    "        println(winning_range(race_duration[a_race], race_record[a_race]))\n",
    "        tot *= winning_range(race_duration[a_race], race_record[a_race])\n",
    "    end\n",
    "    \n",
    "    \n",
    "    (tot)\n",
    "    \n",
    "end"
   ]
  },
  {
   "cell_type": "code",
   "execution_count": 4,
   "id": "0f404032-0867-4a12-a40d-5f4688856f38",
   "metadata": {},
   "outputs": [
    {
     "data": {
      "text/plain": [
       "3.605551275463989"
      ]
     },
     "execution_count": 4,
     "metadata": {},
     "output_type": "execute_result"
    }
   ],
   "source": [
    "sqrt(13)"
   ]
  },
  {
   "cell_type": "code",
   "execution_count": 9,
   "id": "a51a9e67-9831-4e8d-9cbd-e65da31a66bb",
   "metadata": {},
   "outputs": [
    {
     "data": {
      "text/plain": [
       "9.0"
      ]
     },
     "execution_count": 9,
     "metadata": {},
     "output_type": "execute_result"
    }
   ],
   "source": [
    "winning_range(30, 200)"
   ]
  },
  {
   "cell_type": "code",
   "execution_count": 17,
   "id": "1faea8bd-d7c1-43ab-be41-342e7f3a329b",
   "metadata": {},
   "outputs": [
    {
     "name": "stdout",
     "output_type": "stream",
     "text": [
      "Race duration is 41968894 and record is 214178911271055\n"
     ]
    },
    {
     "data": {
      "text/plain": [
       "3.0077773e7"
      ]
     },
     "execution_count": 17,
     "metadata": {},
     "output_type": "execute_result"
    }
   ],
   "source": [
    "\n",
    "tot_ways = open(\"06_1.txt\") do f\n",
    "    big_duration = \"\"\n",
    "    big_record = \"\"\n",
    "\n",
    "    l = split(readline(f), \": \")[2]\n",
    "    for a_val in split(l, \" \")\n",
    "        if length(a_val) > 0\n",
    "            big_duration = big_duration*strip(a_val, ' ')\n",
    "        end\n",
    "    end\n",
    "    \n",
    "    l = split(readline(f), \": \")[2]\n",
    "    for a_val in split(l, \" \")\n",
    "        if length(a_val) > 0\n",
    "            big_record = big_record*strip(a_val, ' ')\n",
    "        end\n",
    "    end\n",
    "\n",
    "    println(\"Race duration is $big_duration and record is $big_record\")\n",
    "\n",
    "    tot = winning_range(parse(Int, big_duration), parse(Int64, big_record))\n",
    "    \n",
    "    \n",
    "    (tot)\n",
    "    \n",
    "end"
   ]
  },
  {
   "cell_type": "code",
   "execution_count": null,
   "id": "5bd96a59-c861-4c27-86fa-a8d6cf4a7f64",
   "metadata": {},
   "outputs": [],
   "source": []
  }
 ],
 "metadata": {
  "kernelspec": {
   "display_name": "Julia 1.9.4",
   "language": "julia",
   "name": "julia-1.9"
  },
  "language_info": {
   "file_extension": ".jl",
   "mimetype": "application/julia",
   "name": "julia",
   "version": "1.9.4"
  }
 },
 "nbformat": 4,
 "nbformat_minor": 5
}
