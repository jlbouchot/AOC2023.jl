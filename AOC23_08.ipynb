{
 "cells": [
  {
   "cell_type": "code",
   "execution_count": 2,
   "id": "4bb37840-ec7e-4073-9e76-18f515cb61fc",
   "metadata": {},
   "outputs": [
    {
     "data": {
      "text/plain": [
       "split_to_chars (generic function with 1 method)"
      ]
     },
     "execution_count": 2,
     "metadata": {},
     "output_type": "execute_result"
    }
   ],
   "source": [
    "function split_to_chars(a_str)\n",
    "    chars = Vector{Char}()\n",
    "    for a in a_str\n",
    "        push!(chars, a)\n",
    "    end\n",
    "    return chars \n",
    "end"
   ]
  },
  {
   "cell_type": "code",
   "execution_count": 5,
   "id": "e80b7e86-5bbf-4d04-94de-f6885ed5cb60",
   "metadata": {},
   "outputs": [
    {
     "data": {
      "text/plain": [
       "12599"
      ]
     },
     "execution_count": 5,
     "metadata": {},
     "output_type": "execute_result"
    }
   ],
   "source": [
    "nb_step = open(\"08_1.txt\") do f \n",
    "    s = 0\n",
    "    seq = Vector{Int}()\n",
    "    for lr in split_to_chars(replace(replace(readline(f), 'L' => 1), 'R' => 2))\n",
    "        push!(seq, parse(Int, lr))\n",
    "    end\n",
    "    readline(f)\n",
    "    paths = Dict()\n",
    "    for line in eachline(f)\n",
    "        values = split(line, \" = \")\n",
    "        lr = split(values[2], \", \")\n",
    "        paths[values[1]] = [lr[1][2:4], lr[2][1:3]]\n",
    "    end\n",
    "    current = \"AAA\"\n",
    "    nb_lr = length(seq)\n",
    "    while(current != \"ZZZ\")\n",
    "        current = paths[current][seq[(s % nb_lr)+1]]\n",
    "        # println(\"Currently at $seq\")\n",
    "        s += 1\n",
    "    end\n",
    "    (s)\n",
    "end"
   ]
  },
  {
   "cell_type": "code",
   "execution_count": 4,
   "id": "2c359521-66f7-4c42-aad6-92d4689c528f",
   "metadata": {},
   "outputs": [
    {
     "data": {
      "text/plain": [
       "2-element Vector{SubString{String}}:\n",
       " \"\"\n",
       " \"ABC\""
      ]
     },
     "execution_count": 4,
     "metadata": {},
     "output_type": "execute_result"
    }
   ],
   "source": [
    "split(\"(ABC\", \"(\")"
   ]
  },
  {
   "cell_type": "code",
   "execution_count": 5,
   "id": "e9dff51b-0011-43e4-9b8d-12a9f5c34a0a",
   "metadata": {},
   "outputs": [
    {
     "data": {
      "text/plain": [
       "\"(ABC\""
      ]
     },
     "execution_count": 5,
     "metadata": {},
     "output_type": "execute_result"
    }
   ],
   "source": [
    "s = \"(ABC\""
   ]
  },
  {
   "cell_type": "code",
   "execution_count": 6,
   "id": "92059bef-6669-4289-bb31-da1ddca8c14e",
   "metadata": {},
   "outputs": [
    {
     "data": {
      "text/plain": [
       "\"ABC\""
      ]
     },
     "execution_count": 6,
     "metadata": {},
     "output_type": "execute_result"
    }
   ],
   "source": [
    "s[2:4]"
   ]
  },
  {
   "cell_type": "code",
   "execution_count": 9,
   "id": "a637c87f-543d-454f-964c-eaa5d32a0db8",
   "metadata": {},
   "outputs": [
    {
     "name": "stdout",
     "output_type": "stream",
     "text": [
      "[\"HCA\", \"AAA\", \"DVA\", \"NDA\", \"PTA\", \"PBA\"]\n",
      "[\"PMZ\", \"CMZ\", \"ZZZ\", \"RLZ\", \"BLZ\", \"LXZ\"]\n"
     ]
    },
    {
     "data": {
      "text/plain": [
       "6-element Vector{Int64}:\n",
       " 15529\n",
       " 12599\n",
       " 13771\n",
       " 17873\n",
       " 21389\n",
       " 17287"
      ]
     },
     "execution_count": 9,
     "metadata": {},
     "output_type": "execute_result"
    }
   ],
   "source": [
    "nb_step = open(\"08_1.txt\") do f \n",
    "    s = 0\n",
    "    seq = Vector{Int}()\n",
    "    for lr in split_to_chars(replace(replace(readline(f), 'L' => 1), 'R' => 2))\n",
    "        push!(seq, parse(Int, lr))\n",
    "    end\n",
    "    readline(f)\n",
    "    paths = Dict()\n",
    "    for line in eachline(f)\n",
    "        values = split(line, \" = \")\n",
    "        lr = split(values[2], \", \")\n",
    "        paths[values[1]] = [lr[1][2:4], lr[2][1:3]]\n",
    "    end\n",
    "\n",
    "    # Find all starting and ending nodes \n",
    "    starts = Vector{String}()\n",
    "    ends = Vector{String}()\n",
    "    for a_node in keys(paths)\n",
    "        if a_node[3] == 'A'\n",
    "            push!(starts, a_node)\n",
    "        elseif a_node[3] == 'Z'\n",
    "            push!(ends, a_node)\n",
    "        end\n",
    "    end\n",
    "    println(starts)\n",
    "    println(ends)\n",
    "    current = \"AAA\"\n",
    "    nb_lr = length(seq)\n",
    "\n",
    "    all_s = Vector{Int}()\n",
    "\n",
    "    for a_start in starts\n",
    "        s = 0\n",
    "        current = a_start\n",
    "        while(!(current in ends))\n",
    "            current = paths[current][seq[(s % nb_lr)+1]]\n",
    "            # println(\"Currently at $seq\")\n",
    "            s += 1\n",
    "        end\n",
    "        push!(all_s, s)\n",
    "    end\n",
    "\n",
    "    \n",
    "    #while(current != \"ZZZ\")\n",
    "    #    current = paths[current][seq[(s % nb_lr)+1]]\n",
    "    #    # println(\"Currently at $seq\")\n",
    "    #    s += 1\n",
    "    #end\n",
    "    (all_s)\n",
    "end"
   ]
  },
  {
   "cell_type": "code",
   "execution_count": 7,
   "id": "2b47eede-f18f-48f9-81d2-d50aa2364c8f",
   "metadata": {},
   "outputs": [
    {
     "data": {
      "text/plain": [
       "6-element Vector{String}:\n",
       " \"PMZ\"\n",
       " \"CMZ\"\n",
       " \"ZZZ\"\n",
       " \"RLZ\"\n",
       " \"BLZ\"\n",
       " \"LXZ\""
      ]
     },
     "execution_count": 7,
     "metadata": {},
     "output_type": "execute_result"
    }
   ],
   "source": [
    "ends = [\"PMZ\", \"CMZ\", \"ZZZ\", \"RLZ\", \"BLZ\", \"LXZ\"]"
   ]
  },
  {
   "cell_type": "code",
   "execution_count": 8,
   "id": "872e7537-e8c7-488e-a15b-d00b89cf7674",
   "metadata": {},
   "outputs": [
    {
     "data": {
      "text/plain": [
       "false"
      ]
     },
     "execution_count": 8,
     "metadata": {},
     "output_type": "execute_result"
    }
   ],
   "source": [
    "\"AAA\" in ends"
   ]
  },
  {
   "cell_type": "code",
   "execution_count": 10,
   "id": "766462bc-101a-4c09-9b30-5e76e362e771",
   "metadata": {},
   "outputs": [
    {
     "data": {
      "text/plain": [
       "8245452805243"
      ]
     },
     "execution_count": 10,
     "metadata": {},
     "output_type": "execute_result"
    }
   ],
   "source": [
    "lcm(15529, 12599, 13771, 17873, 21389, 17287)"
   ]
  },
  {
   "cell_type": "code",
   "execution_count": null,
   "id": "137e2e36-4963-42b6-8928-7727920dfd64",
   "metadata": {},
   "outputs": [],
   "source": []
  }
 ],
 "metadata": {
  "kernelspec": {
   "display_name": "Julia 1.9.4",
   "language": "julia",
   "name": "julia-1.9"
  },
  "language_info": {
   "file_extension": ".jl",
   "mimetype": "application/julia",
   "name": "julia",
   "version": "1.9.4"
  }
 },
 "nbformat": 4,
 "nbformat_minor": 5
}
